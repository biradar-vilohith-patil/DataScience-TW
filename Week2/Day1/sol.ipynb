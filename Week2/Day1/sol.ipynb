{
 "cells": [
  {
   "cell_type": "markdown",
   "id": "37b0cc23",
   "metadata": {},
   "source": [
    "1. Prime Number Finder\n",
    " \n",
    "   * Function that returns all prime numbers up to `n`.\n",
    "   * Input: `n = 20`\n",
    "   * Output: `[2, 3, 5, 7, 11, 13, 17, 19]`"
   ]
  },
  {
   "cell_type": "code",
   "execution_count": 6,
   "id": "943fb1f5",
   "metadata": {},
   "outputs": [
    {
     "name": "stdout",
     "output_type": "stream",
     "text": [
      "[2, 3, 5, 7, 11, 13, 17, 19]\n"
     ]
    }
   ],
   "source": [
    "def isPrime(n):\n",
    "    if n <= 1:\n",
    "      return False\n",
    "    for i in range(2, int(n**0.5) + 1):\n",
    "        if n % i == 0:\n",
    "            return False\n",
    "    return True\n",
    "\n",
    "n = int(input(\"Number n\"))\n",
    "l=[]\n",
    "for j in range(1,n+1):\n",
    "    if isPrime(j):\n",
    "        l.append(j)\n",
    "print(l)"
   ]
  },
  {
   "cell_type": "markdown",
   "id": "1e4901b8",
   "metadata": {},
   "source": [
    "2. Palindrome Checker\n",
    " \n",
    "   * Check if a string is palindrome (ignoring spaces & case).\n",
    "   * Input: `\"Never odd or even\"`\n",
    "   * Output: `True`"
   ]
  },
  {
   "cell_type": "code",
   "execution_count": 7,
   "id": "06ad11ba",
   "metadata": {},
   "outputs": [
    {
     "name": "stdout",
     "output_type": "stream",
     "text": [
      "True\n"
     ]
    }
   ],
   "source": [
    "def isPalindrome(s):\n",
    "    s=s.replace(\" \",\"\").lower()\n",
    "    return s == s[::-1]\n",
    "print(isPalindrome(\"Never odd or even\"))"
   ]
  },
  {
   "cell_type": "markdown",
   "id": "fc2668eb",
   "metadata": {},
   "source": [
    "3. Anagram Checker\n",
    " \n",
    "   * Function checks if two words are anagrams.\n",
    "   * Input: `\"listen\", \"silent\"`\n",
    "   * Output: `True`"
   ]
  },
  {
   "cell_type": "code",
   "execution_count": 10,
   "id": "5a9d93ff",
   "metadata": {},
   "outputs": [
    {
     "name": "stdout",
     "output_type": "stream",
     "text": [
      "True\n"
     ]
    }
   ],
   "source": [
    "def isAnagram(m , n):\n",
    "    m=m.replace(\" \",\"\").lower()\n",
    "    n=n.replace(\" \",\"\").lower()\n",
    "    return sorted(m)==sorted(n)\n",
    "    \n",
    "print(isAnagram(\"listen\" , \"silent\"))"
   ]
  },
  {
   "cell_type": "markdown",
   "id": "0bf5a655",
   "metadata": {},
   "source": [
    "4. Count Vowels & Consonants\n",
    " \n",
    "   * Return count of vowels & consonants.\n",
    "   * Input: `\"hello\"`\n",
    "   * Output: `Vowels=2, Consonants=3`"
   ]
  },
  {
   "cell_type": "code",
   "execution_count": 11,
   "id": "0a1f60fd",
   "metadata": {},
   "outputs": [
    {
     "name": "stdout",
     "output_type": "stream",
     "text": [
      "Vowels =  2\n",
      "Consonants =  3\n"
     ]
    }
   ],
   "source": [
    "def countVandC(s1):\n",
    "    v=0\n",
    "    c=0\n",
    "    vowels=['a','e','i','o','u']\n",
    "    for i in range(len(s1)):\n",
    "        if s1[i].isalpha() :\n",
    "            if s1[i] in vowels:\n",
    "                v+=1\n",
    "            else:\n",
    "                c+=1\n",
    "    \n",
    "    print(\"Vowels = \",v)\n",
    "    print(\"Consonants = \",c)\n",
    "\n",
    "countVandC(\"hello\")"
   ]
  },
  {
   "cell_type": "markdown",
   "id": "b6e3c611",
   "metadata": {},
   "source": [
    "5. Longest Word Finder\n",
    " \n",
    "* Return longest word in a sentence.\n",
    "* Input: `\"Python is amazing\"`\n",
    "* Output: `\"amazing\"`"
   ]
  },
  {
   "cell_type": "code",
   "execution_count": 15,
   "id": "b88780e2",
   "metadata": {},
   "outputs": [
    {
     "name": "stdout",
     "output_type": "stream",
     "text": [
      "amazing\n"
     ]
    }
   ],
   "source": [
    "\n",
    "def longestWord(sentence):\n",
    "    words=sentence.split(\" \")\n",
    "    longest = words[0]\n",
    "    for i in range(len(words)):\n",
    "        if len(longest) <= len(words[i]):\n",
    "            longest = words[i] \n",
    "    return longest\n",
    "\n",
    "print(longestWord(\"Python is amazing\"))"
   ]
  },
  {
   "cell_type": "markdown",
   "id": "91491cae",
   "metadata": {},
   "source": [
    "Python Modules (5 challenges)\n",
    " \n",
    "1. Random Password Generator (`random`, `string`)\n",
    " \n",
    "* Input: `length=6`\n",
    "* Output: `\"aB9@xQ\"`"
   ]
  },
  {
   "cell_type": "markdown",
   "id": "23a483bf",
   "metadata": {},
   "source": [
    "2. Simple Calculator with `math`\n",
    " \n",
    "* Perform sqrt, factorial, sin, cos.\n",
    "* Input: `sqrt(25)`\n",
    "* Output: `5.0`"
   ]
  },
  {
   "cell_type": "markdown",
   "id": "b1342298",
   "metadata": {},
   "source": [
    "Python OOPs (5 challenges)\n",
    " \n",
    "1. Bank Account Class\n",
    " \n",
    "Attributes:\n",
    " \n",
    "* `balance` → stores the current money in the account\n",
    "* `owner` (optional) → name of account holder\n",
    " \n",
    "Methods:\n",
    " \n",
    "* `deposit(amount)` → adds money to balance\n",
    "* `withdraw(amount)` → subtracts money if enough funds\n",
    "* `get_balance()` → returns balance\n",
    " \n",
    "Example:\n",
    " \n",
    "```python\n",
    "acc = BankAccount(100)   # initial balance = 100\n",
    "acc.deposit(50)          # balance = 150\n",
    "acc.withdraw(30)         # balance = 120\n",
    "print(acc.get_balance())\n",
    "```\n",
    " \n",
    "Output:\n",
    " \n",
    "```\n",
    "Balance: 120\n",
    "```"
   ]
  },
  {
   "cell_type": "code",
   "execution_count": 23,
   "id": "e4ada795",
   "metadata": {},
   "outputs": [
    {
     "name": "stdout",
     "output_type": "stream",
     "text": [
      "Deposited\n",
      "Current Balance :  300\n",
      "withdrawn\n",
      "Current Balance :  250\n",
      "Balance  250\n"
     ]
    }
   ],
   "source": [
    "class BankAcc:\n",
    "    def __init__(self,bal , owner):\n",
    "        self.bal = bal\n",
    "        self.owner = owner\n",
    "    \n",
    "    def deposit(self ,amt):\n",
    "        self.bal+=amt\n",
    "        print(\"Deposited\")\n",
    "        print(\"Current Balance : \" , self.get_bal())\n",
    "\n",
    "    \n",
    "    def withdraw(self, amt):\n",
    "        self.bal-=amt\n",
    "        print(\"withdrawn\")\n",
    "        print(\"Current Balance : \" , self.get_bal())\n",
    "    \n",
    "    def get_bal(self):\n",
    "        return self.bal\n",
    "\n",
    "a=BankAcc(200 , \"kamal\")\n",
    "a.deposit(100)\n",
    "a.withdraw(50)\n",
    "print(\"Balance \" , a.get_bal())"
   ]
  },
  {
   "cell_type": "markdown",
   "id": "a9089bf6",
   "metadata": {},
   "source": [
    "2. Student Class with Average\n",
    " \n",
    "Attributes:\n",
    " \n",
    "* `name` → student name\n",
    "* `marks` → list of student marks `[90, 80, 85]`\n",
    " \n",
    "Methods:\n",
    " \n",
    "* `get_average()` → returns average marks\n",
    "* `add_mark(mark)` → add new score\n",
    "* `get_highest()` → return highest mark\n",
    "* `get_lowest()` → return lowest mark\n",
    " \n",
    "Example:\n",
    " \n",
    "```python\n",
    "s = Student(\"Tom\", [90, 80, 85])\n",
    "print(s.get_average())   # (90+80+85)/3 = 85.0\n",
    "s.add_mark(95)           # marks = [90,80,85,95]\n",
    "print(s.get_highest())   # 95\n",
    "```\n",
    " \n",
    "Output:\n",
    " \n",
    "```\n",
    "85.0\n",
    "95\n",
    "```"
   ]
  },
  {
   "cell_type": "code",
   "execution_count": 25,
   "id": "ec614d5b",
   "metadata": {},
   "outputs": [
    {
     "name": "stdout",
     "output_type": "stream",
     "text": [
      "average  85.0\n",
      "None\n",
      "[90, 80, 85, 95]\n",
      "95\n"
     ]
    }
   ],
   "source": [
    "class Student:\n",
    "    def __init__(self,s , marks):\n",
    "        self.s = s\n",
    "        self.marks = marks\n",
    "    \n",
    "    def avg(self):\n",
    "        average = sum(self.marks)/len(self.marks)\n",
    "        print(\"average \" , average)\n",
    "    \n",
    "    def add_mark(self , mark):\n",
    "        self.marks.append(mark)\n",
    "\n",
    "    def highest(self):\n",
    "        return max(self.marks)\n",
    "    \n",
    "    def lowest(self):\n",
    "        return min(self.marks)\n",
    "\n",
    "s = Student(\"Tom\", [90, 80, 85])\n",
    "print(s.avg())   # (90+80+85)/3 = 85.0\n",
    "s.add_mark(95)           # marks = [90,80,85,95]\n",
    "print(s.marks)\n",
    "print(s.highest())   # 95"
   ]
  },
  {
   "cell_type": "markdown",
   "id": "b0c14dfc",
   "metadata": {},
   "source": [
    "3. Employee Bonus System\n",
    " \n",
    "Attributes:\n",
    " \n",
    "* `name` → employee name\n",
    "* `salary` → base salary\n",
    "* `role` → role of employee (e.g., Manager, Developer, Intern)\n",
    " \n",
    "Methods:\n",
    " \n",
    "* `bonus()` → calculates bonus depending on role:\n",
    " \n",
    "  * Manager → 20% of salary\n",
    "  * Developer → 10% of salary\n",
    "  * Intern → 5% of salary\n",
    " \n",
    "Example:\n",
    " \n",
    "```python\n",
    "m = Manager(\"Alice\", 50000)\n",
    "print(m.bonus())\n",
    "```\n",
    " \n",
    "Output:\n",
    " \n",
    "```\n",
    "10000\n",
    "```"
   ]
  },
  {
   "cell_type": "code",
   "execution_count": 26,
   "id": "97d7c89d",
   "metadata": {},
   "outputs": [
    {
     "name": "stdout",
     "output_type": "stream",
     "text": [
      "10000.0\n"
     ]
    }
   ],
   "source": [
    "class Employee:\n",
    "    def __init__(self,name , sal , role):\n",
    "        self.name = name\n",
    "        self.sal=sal\n",
    "        self.role=role\n",
    "    \n",
    "    def bonus(self):\n",
    "        if self.role == \"Manager\":\n",
    "            return self.sal/5\n",
    "        elif self.role == \"Developer\":\n",
    "            return self.sal/10\n",
    "        elif self.role == \"Intern\":\n",
    "            return self.sal/20\n",
    "\n",
    "m = Employee(\"alice\" , 50000 , \"Manager\")\n",
    "print(m.bonus())\n"
   ]
  },
  {
   "cell_type": "code",
   "execution_count": null,
   "id": "b1f09701",
   "metadata": {},
   "outputs": [],
   "source": []
  }
 ],
 "metadata": {
  "kernelspec": {
   "display_name": "Python 3",
   "language": "python",
   "name": "python3"
  },
  "language_info": {
   "codemirror_mode": {
    "name": "ipython",
    "version": 3
   },
   "file_extension": ".py",
   "mimetype": "text/x-python",
   "name": "python",
   "nbconvert_exporter": "python",
   "pygments_lexer": "ipython3",
   "version": "3.11.0"
  }
 },
 "nbformat": 4,
 "nbformat_minor": 5
}
