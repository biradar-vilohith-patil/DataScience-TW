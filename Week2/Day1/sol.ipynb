{
 "cells": [
  {
   "cell_type": "markdown",
   "id": "37b0cc23",
   "metadata": {},
   "source": [
    "1. Prime Number Finder\n",
    " \n",
    "   * Function that returns all prime numbers up to `n`.\n",
    "   * Input: `n = 20`\n",
    "   * Output: `[2, 3, 5, 7, 11, 13, 17, 19]`"
   ]
  },
  {
   "cell_type": "code",
   "execution_count": 1,
   "id": "943fb1f5",
   "metadata": {},
   "outputs": [
    {
     "name": "stdout",
     "output_type": "stream",
     "text": [
      "[2, 3, 5, 7, 11, 13, 17, 19]\n"
     ]
    }
   ],
   "source": [
    "def isPrime(n):\n",
    "    if n <= 1:\n",
    "      return False\n",
    "    for i in range(2, int(n**0.5) + 1):\n",
    "        if n % i == 0:\n",
    "            return False\n",
    "    return True\n",
    "\n",
    "n = int(input(\"Number n\"))\n",
    "l=[]\n",
    "for j in range(1,n+1):\n",
    "    if isPrime(j):\n",
    "        l.append(j)\n",
    "print(l)"
   ]
  },
  {
   "cell_type": "markdown",
   "id": "1e4901b8",
   "metadata": {},
   "source": [
    "2. Palindrome Checker\n",
    " \n",
    "   * Check if a string is palindrome (ignoring spaces & case).\n",
    "   * Input: `\"Never odd or even\"`\n",
    "   * Output: `True`"
   ]
  },
  {
   "cell_type": "code",
   "execution_count": null,
   "id": "06ad11ba",
   "metadata": {},
   "outputs": [
    {
     "name": "stdout",
     "output_type": "stream",
     "text": [
      "True\n"
     ]
    }
   ],
   "source": [
    "def isPalindrome(s):\n",
    "    s=s.replace(\" \",\"\").lower()\n",
    "    return s == s[::-1]\n",
    "print(isPalindrome(\"Never odd or even\"))"
   ]
  },
  {
   "cell_type": "markdown",
   "id": "fc2668eb",
   "metadata": {},
   "source": [
    "3. Anagram Checker\n",
    " \n",
    "   * Function checks if two words are anagrams.\n",
    "   * Input: `\"listen\", \"silent\"`\n",
    "   * Output: `True`"
   ]
  },
  {
   "cell_type": "code",
   "execution_count": null,
   "id": "5a9d93ff",
   "metadata": {},
   "outputs": [
    {
     "name": "stdout",
     "output_type": "stream",
     "text": [
      "True\n"
     ]
    }
   ],
   "source": [
    "def isAnagram(m , n):\n",
    "    m=m.replace(\" \",\"\").lower()\n",
    "    n=n.replace(\" \",\"\").lower()\n",
    "    return sorted(m)==sorted(n)\n",
    "    \n",
    "print(isAnagram(\"listen\" , \"silent\"))"
   ]
  },
  {
   "cell_type": "markdown",
   "id": "0bf5a655",
   "metadata": {},
   "source": [
    "4. Count Vowels & Consonants\n",
    " \n",
    "   * Return count of vowels & consonants.\n",
    "   * Input: `\"hello\"`\n",
    "   * Output: `Vowels=2, Consonants=3`"
   ]
  },
  {
   "cell_type": "code",
   "execution_count": null,
   "id": "0a1f60fd",
   "metadata": {},
   "outputs": [
    {
     "name": "stdout",
     "output_type": "stream",
     "text": [
      "Vowels =  2\n",
      "Consonants =  3\n"
     ]
    }
   ],
   "source": [
    "def countVandC(s1):\n",
    "    v=0\n",
    "    c=0\n",
    "    vowels=['a','e','i','o','u']\n",
    "    for i in range(len(s1)):\n",
    "        if s1[i].isalpha() :\n",
    "            if s1[i] in vowels:\n",
    "                v+=1\n",
    "            else:\n",
    "                c+=1\n",
    "    \n",
    "    print(\"Vowels = \",v)\n",
    "    print(\"Consonants = \",c)\n",
    "\n",
    "countVandC(\"hello\")"
   ]
  },
  {
   "cell_type": "markdown",
   "id": "b6e3c611",
   "metadata": {},
   "source": [
    "5. Longest Word Finder\n",
    " \n",
    "* Return longest word in a sentence.\n",
    "* Input: `\"Python is amazing\"`\n",
    "* Output: `\"amazing\"`"
   ]
  },
  {
   "cell_type": "code",
   "execution_count": null,
   "id": "b88780e2",
   "metadata": {},
   "outputs": [
    {
     "name": "stdout",
     "output_type": "stream",
     "text": [
      "amazing\n"
     ]
    }
   ],
   "source": [
    "\n",
    "def longestWord(sentence):\n",
    "    words=sentence.split(\" \")\n",
    "    longest = words[0]\n",
    "    for i in range(len(words)):\n",
    "        if len(longest) <= len(words[i]):\n",
    "            longest = words[i] \n",
    "    return longest\n",
    "\n",
    "print(longestWord(\"Python is amazing\"))"
   ]
  },
  {
   "cell_type": "markdown",
   "id": "91491cae",
   "metadata": {},
   "source": [
    "Python Modules (5 challenges)\n",
    " \n",
    "1. Random Password Generator (`random`, `string`)\n",
    " \n",
    "* Input: `length=6`\n",
    "* Output: `\"aB9@xQ\"`"
   ]
  },
  {
   "cell_type": "code",
   "execution_count": 3,
   "id": "622611af",
   "metadata": {},
   "outputs": [
    {
     "name": "stdout",
     "output_type": "stream",
     "text": [
      ".$e78/t\n"
     ]
    }
   ],
   "source": [
    "import random\n",
    "import string\n",
    "\n",
    "def pwGenerator(le):\n",
    "    ch = string.ascii_letters + string.digits + string.punctuation\n",
    "    pw = ''.join(random.choice(ch) for i in range(le))\n",
    "    return pw\n",
    "print(pwGenerator(7))"
   ]
  },
  {
   "cell_type": "markdown",
   "id": "23a483bf",
   "metadata": {},
   "source": [
    "2. Simple Calculator with `math`\n",
    " \n",
    "* Perform sqrt, factorial, sin, cos.\n",
    "* Input: `sqrt(25)`\n",
    "* Output: `5.0`"
   ]
  },
  {
   "cell_type": "code",
   "execution_count": 4,
   "id": "8f3ebbd2",
   "metadata": {},
   "outputs": [
    {
     "name": "stdout",
     "output_type": "stream",
     "text": [
      "5.0\n"
     ]
    }
   ],
   "source": [
    "import math\n",
    "def sqrt(num):\n",
    "    return round(math.sqrt(num) , 1)\n",
    "\n",
    "def factorial(num):\n",
    "    return math.factorial(num)\n",
    "\n",
    "def sin(num):\n",
    "    return round(math.sin(num) , 2)\n",
    "\n",
    "def cos(num):\n",
    "    return round(math.cos(num) , 2)\n",
    "\n",
    "print(sqrt(25))"
   ]
  },
  {
   "cell_type": "markdown",
   "id": "a821eda2",
   "metadata": {},
   "source": [
    "3. Word Frequency Counter (`collections.Counter`)\n",
    " \n",
    "* Input: `\"cat dog cat\"`\n",
    "* Output: `{'cat':2,'dog':1}`"
   ]
  },
  {
   "cell_type": "code",
   "execution_count": 7,
   "id": "0f65cf5f",
   "metadata": {},
   "outputs": [
    {
     "name": "stdout",
     "output_type": "stream",
     "text": [
      "{'cat': 2, 'dog': 1}\n"
     ]
    }
   ],
   "source": [
    "import collections\n",
    "def counter(sen):\n",
    "    return collections.Counter(sen.split())\n",
    "print(dict(counter(\"cat dog cat\")))"
   ]
  },
  {
   "cell_type": "markdown",
   "id": "f23977b0",
   "metadata": {},
   "source": [
    "4. Weather Simulator (`random`)\n",
    " \n",
    "* Input: None\n",
    "* Output: `\"Weather: Sunny, Temp: 32°C\"`"
   ]
  },
  {
   "cell_type": "code",
   "execution_count": 8,
   "id": "293fd99f",
   "metadata": {},
   "outputs": [
    {
     "name": "stdout",
     "output_type": "stream",
     "text": [
      "Weather: sunny, Temp: 36°C\n"
     ]
    }
   ],
   "source": [
    "import random\n",
    "weather = [\"sunny\" , \"rainy\" , \"cloudy\"]\n",
    "temp = range(20,40)\n",
    "\n",
    "rTemp = random.choice(temp)\n",
    "rWea = random.choice(weather)\n",
    "print(f\"Weather: {rWea}, Temp: {rTemp}°C\")"
   ]
  },
  {
   "cell_type": "markdown",
   "id": "0df1b594",
   "metadata": {},
   "source": [
    "5. Timer Program (`time`)\n",
    " \n",
    "* Input: `countdown(5)`\n",
    "* Output:\n",
    " \n",
    "  ```\n",
    "  5  \n",
    "  4  \n",
    "  3  \n",
    "  2  \n",
    "  1  \n",
    "  Time’s up!\n",
    "  ```"
   ]
  },
  {
   "cell_type": "code",
   "execution_count": 9,
   "id": "02bd3f55",
   "metadata": {},
   "outputs": [
    {
     "name": "stdout",
     "output_type": "stream",
     "text": [
      "5\n",
      "4\n",
      "3\n",
      "2\n",
      "1\n",
      "Time’s up!\n"
     ]
    }
   ],
   "source": [
    "import time\n",
    "def countdown(n):\n",
    "    while n > 0:\n",
    "        print(n)\n",
    "        time.sleep(1)   # wait for 1 second\n",
    "        n -= 1\n",
    "    print(\"Time’s up!\")\n",
    "\n",
    "countdown(5)"
   ]
  },
  {
   "cell_type": "markdown",
   "id": "b1342298",
   "metadata": {},
   "source": [
    "Python OOPs (5 challenges)\n",
    " \n",
    "1. Bank Account Class\n",
    " \n",
    "Attributes:\n",
    " \n",
    "* `balance` → stores the current money in the account\n",
    "* `owner` (optional) → name of account holder\n",
    " \n",
    "Methods:\n",
    " \n",
    "* `deposit(amount)` → adds money to balance\n",
    "* `withdraw(amount)` → subtracts money if enough funds\n",
    "* `get_balance()` → returns balance\n",
    " \n",
    "Example:\n",
    " \n",
    "```python\n",
    "acc = BankAccount(100)   # initial balance = 100\n",
    "acc.deposit(50)          # balance = 150\n",
    "acc.withdraw(30)         # balance = 120\n",
    "print(acc.get_balance())\n",
    "```\n",
    " \n",
    "Output:\n",
    " \n",
    "```\n",
    "Balance: 120\n",
    "```"
   ]
  },
  {
   "cell_type": "code",
   "execution_count": null,
   "id": "e4ada795",
   "metadata": {},
   "outputs": [
    {
     "name": "stdout",
     "output_type": "stream",
     "text": [
      "Deposited\n",
      "Current Balance :  300\n",
      "withdrawn\n",
      "Current Balance :  250\n",
      "Balance  250\n"
     ]
    }
   ],
   "source": [
    "class BankAcc:\n",
    "    def __init__(self,bal , owner):\n",
    "        self.bal = bal\n",
    "        self.owner = owner\n",
    "    \n",
    "    def deposit(self ,amt):\n",
    "        self.bal+=amt\n",
    "        print(\"Deposited\")\n",
    "        print(\"Current Balance : \" , self.get_bal())\n",
    "\n",
    "    \n",
    "    def withdraw(self, amt):\n",
    "        self.bal-=amt\n",
    "        print(\"withdrawn\")\n",
    "        print(\"Current Balance : \" , self.get_bal())\n",
    "    \n",
    "    def get_bal(self):\n",
    "        return self.bal\n",
    "\n",
    "a=BankAcc(200 , \"kamal\")\n",
    "a.deposit(100)\n",
    "a.withdraw(50)\n",
    "print(\"Balance \" , a.get_bal())"
   ]
  },
  {
   "cell_type": "markdown",
   "id": "a9089bf6",
   "metadata": {},
   "source": [
    "2. Student Class with Average\n",
    " \n",
    "Attributes:\n",
    " \n",
    "* `name` → student name\n",
    "* `marks` → list of student marks `[90, 80, 85]`\n",
    " \n",
    "Methods:\n",
    " \n",
    "* `get_average()` → returns average marks\n",
    "* `add_mark(mark)` → add new score\n",
    "* `get_highest()` → return highest mark\n",
    "* `get_lowest()` → return lowest mark\n",
    " \n",
    "Example:\n",
    " \n",
    "```python\n",
    "s = Student(\"Tom\", [90, 80, 85])\n",
    "print(s.get_average())   # (90+80+85)/3 = 85.0\n",
    "s.add_mark(95)           # marks = [90,80,85,95]\n",
    "print(s.get_highest())   # 95\n",
    "```\n",
    " \n",
    "Output:\n",
    " \n",
    "```\n",
    "85.0\n",
    "95\n",
    "```"
   ]
  },
  {
   "cell_type": "code",
   "execution_count": null,
   "id": "ec614d5b",
   "metadata": {},
   "outputs": [
    {
     "name": "stdout",
     "output_type": "stream",
     "text": [
      "average  85.0\n",
      "None\n",
      "[90, 80, 85, 95]\n",
      "95\n"
     ]
    }
   ],
   "source": [
    "class Student:\n",
    "    def __init__(self,s , marks):\n",
    "        self.s = s\n",
    "        self.marks = marks\n",
    "    \n",
    "    def avg(self):\n",
    "        average = sum(self.marks)/len(self.marks)\n",
    "        print(\"average \" , average)\n",
    "    \n",
    "    def add_mark(self , mark):\n",
    "        self.marks.append(mark)\n",
    "\n",
    "    def highest(self):\n",
    "        return max(self.marks)\n",
    "    \n",
    "    def lowest(self):\n",
    "        return min(self.marks)\n",
    "\n",
    "s = Student(\"Tom\", [90, 80, 85])\n",
    "print(s.avg())   # (90+80+85)/3 = 85.0\n",
    "s.add_mark(95)           # marks = [90,80,85,95]\n",
    "print(s.marks)\n",
    "print(s.highest())   # 95"
   ]
  },
  {
   "cell_type": "markdown",
   "id": "b0c14dfc",
   "metadata": {},
   "source": [
    "3. Employee Bonus System\n",
    " \n",
    "Attributes:\n",
    " \n",
    "* `name` → employee name\n",
    "* `salary` → base salary\n",
    "* `role` → role of employee (e.g., Manager, Developer, Intern)\n",
    " \n",
    "Methods:\n",
    " \n",
    "* `bonus()` → calculates bonus depending on role:\n",
    " \n",
    "  * Manager → 20% of salary\n",
    "  * Developer → 10% of salary\n",
    "  * Intern → 5% of salary\n",
    " \n",
    "Example:\n",
    " \n",
    "```python\n",
    "m = Manager(\"Alice\", 50000)\n",
    "print(m.bonus())\n",
    "```\n",
    " \n",
    "Output:\n",
    " \n",
    "```\n",
    "10000\n",
    "```"
   ]
  },
  {
   "cell_type": "code",
   "execution_count": null,
   "id": "97d7c89d",
   "metadata": {},
   "outputs": [
    {
     "name": "stdout",
     "output_type": "stream",
     "text": [
      "10000.0\n"
     ]
    }
   ],
   "source": [
    "class Employee:\n",
    "    def __init__(self,name , sal , role):\n",
    "        self.name = name\n",
    "        self.sal=sal\n",
    "        self.role=role\n",
    "\n",
    "    def bonus(self):\n",
    "        pass \n",
    "\n",
    "class Manager(Employee):\n",
    "    def __init__(self, name, sal):\n",
    "        super().__init__(name, sal , \"Manager\")\n",
    "    \n",
    "    def bonus(self):\n",
    "        return self.sal/5\n",
    "\n",
    "class Developer(Employee):\n",
    "    def __init__(self, name, sal):\n",
    "        super().__init__(name, sal , \"Developer\")\n",
    "    \n",
    "    def bonus(self):\n",
    "        return self.sal/10\n",
    "\n",
    "class Intern(Employee):\n",
    "    def __init__(self, name, sal):\n",
    "        super().__init__(name, sal , \"Intern\")\n",
    "    \n",
    "    def bonus(self):\n",
    "        return self.sal/20    \n",
    "    \n",
    "m = Manager(\"alice\" , 50000 )\n",
    "print(m.bonus())\n"
   ]
  },
  {
   "cell_type": "markdown",
   "id": "0621e132",
   "metadata": {},
   "source": [
    "4. Shape Area Calculator\n",
    " \n",
    "Base Class (Shape):\n",
    " \n",
    "* Attribute: `name`\n",
    "* Method: `area()` → to be overridden by subclasses\n",
    " \n",
    "Subclasses:\n",
    " \n",
    "* `Circle(radius)` → area = π × r²\n",
    "* `Rectangle(width, height)` → area = width × height\n",
    " \n",
    "Example:\n",
    " \n",
    "```python\n",
    "c = Circle(7)\n",
    "print(c.area())\n",
    "r = Rectangle(4, 5)\n",
    "print(r.area())\n",
    "```\n",
    " \n",
    "Output:\n",
    " \n",
    "```\n",
    "153.94\n",
    "20\n",
    "```"
   ]
  },
  {
   "cell_type": "code",
   "execution_count": null,
   "id": "b1f09701",
   "metadata": {},
   "outputs": [
    {
     "name": "stdout",
     "output_type": "stream",
     "text": [
      "153.94\n",
      "20\n"
     ]
    }
   ],
   "source": [
    "import math\n",
    "class Shape:\n",
    "    def __init__(self , name):\n",
    "        self.name=name\n",
    "    \n",
    "    def area(self):\n",
    "        pass\n",
    "class Circle(Shape):\n",
    "    def __init__(self , radius):\n",
    "        super().__init__(\"Circle\")\n",
    "        self.radius = radius\n",
    "    \n",
    "    def area(self):\n",
    "        return round((math.pi)*(self.radius ** 2) , 2)\n",
    "\n",
    "class Rectangle(Shape):\n",
    "    def __init__(self , l , w):\n",
    "        super().__init__(\"Rectangle\")\n",
    "        self.l = l\n",
    "        self.w=w\n",
    "    \n",
    "    def area(self):\n",
    "        return self.l*self.w\n",
    "\n",
    "c = Circle(7)\n",
    "print(c.area())\n",
    "r = Rectangle(4, 5)\n",
    "print(r.area())\n",
    "    "
   ]
  },
  {
   "cell_type": "markdown",
   "id": "56b4ff6e",
   "metadata": {},
   "source": [
    "5. E-commerce Order Class\n",
    " \n",
    "Attributes:\n",
    " \n",
    "* `items` → dictionary of items `{name: price}`\n",
    " \n",
    "Methods:\n",
    " \n",
    "* `add(item, price)` → adds an item to order\n",
    "* `remove(item)` → removes item\n",
    "* `calculate_total()` → returns total price of all items\n",
    "* `show_items()` → lists all items in order\n",
    " \n",
    "Example:\n",
    " \n",
    "```python\n",
    "order = Order()\n",
    "order.add(\"Shirt\", 500)\n",
    "order.add(\"Shoes\", 1500)\n",
    "print(order.calculate_total())\n",
    "```\n",
    " \n",
    "Output:\n",
    " \n",
    "```\n",
    "Total = 2000\n",
    "```"
   ]
  },
  {
   "cell_type": "code",
   "execution_count": null,
   "id": "7bba97ac",
   "metadata": {},
   "outputs": [
    {
     "name": "stdout",
     "output_type": "stream",
     "text": [
      "Total = 2000\n"
     ]
    }
   ],
   "source": [
    "class Order:\n",
    "    def __init__(self , items):\n",
    "        self.items = items\n",
    "    \n",
    "    def add(self ,item , val):\n",
    "        self.items[item] =  val\n",
    "    \n",
    "    def remove (self , item):\n",
    "        del self.items[item]\n",
    "    \n",
    "    def calc(self):\n",
    "        return sum(self.items.values())\n",
    "    \n",
    "    def show(self):\n",
    "        return self.items.keys()\n",
    "\n",
    "order = Order({})\n",
    "order.add(\"Shirt\", 500)\n",
    "order.add(\"Shoes\", 1500)\n",
    "print(\"Total =\",order.calc())"
   ]
  },
  {
   "cell_type": "markdown",
   "id": "4ecea332",
   "metadata": {},
   "source": [
    "Python Functions (5 challenges)\n",
    " \n",
    "1. Fibonacci Generator\n",
    " \n",
    "* Function generates `n` Fibonacci numbers.\n",
    " \n",
    "* Input: `n = 7`\n",
    " \n",
    "* Output: `[0, 1, 1, 2, 3, 5, 8]`"
   ]
  },
  {
   "cell_type": "code",
   "execution_count": null,
   "id": "789c7f03",
   "metadata": {},
   "outputs": [
    {
     "name": "stdout",
     "output_type": "stream",
     "text": [
      "[0, 1, 1, 2, 3, 5, 8]\n"
     ]
    }
   ],
   "source": [
    "def fib(n):\n",
    "    a = 0 \n",
    "    b = 1\n",
    "    l=[]\n",
    "    l.append(a)\n",
    "    l.append(b)\n",
    "    for i in range(2,n):\n",
    "        a,b = b , a+b\n",
    "        l.append(b)\n",
    "    return l\n",
    "\n",
    "n=int(input(\"Enter n\"))\n",
    "print(fib(n))"
   ]
  },
  {
   "cell_type": "markdown",
   "id": "031224f6",
   "metadata": {},
   "source": [
    "2. Factorial Using Recursion\n",
    " \n",
    "* Compute factorial using recursion.\n",
    " \n",
    "* Input: `5`\n",
    " \n",
    "* Output: `120`"
   ]
  },
  {
   "cell_type": "code",
   "execution_count": null,
   "id": "dc4c1758",
   "metadata": {},
   "outputs": [
    {
     "name": "stdout",
     "output_type": "stream",
     "text": [
      "120\n"
     ]
    }
   ],
   "source": [
    "def fact(n):\n",
    "    if n==0 or n==1:\n",
    "        return 1\n",
    "    return n*fact(n-1)\n",
    "\n",
    "n=int(input(\"Enter n\"))\n",
    "print(fact(n))"
   ]
  },
  {
   "cell_type": "markdown",
   "id": "272bc647",
   "metadata": {},
   "source": [
    "3. Unique Words Counter\n",
    " \n",
    "* Return unique words in a sentence.\n",
    " \n",
    "* Input: `\"apple banana apple orange banana\"`\n",
    " \n",
    "* Output: `{'apple':2,'banana':2,'orange':1}`"
   ]
  },
  {
   "cell_type": "code",
   "execution_count": null,
   "id": "864a06f3",
   "metadata": {},
   "outputs": [
    {
     "name": "stdout",
     "output_type": "stream",
     "text": [
      "{'apple': 2, 'banana': 2, 'orange': 1}\n"
     ]
    }
   ],
   "source": [
    "def counter(sen):\n",
    "    li = sen.split(\" \")\n",
    "    d={}\n",
    "    for i in range(len(li)):\n",
    "        if li[i] in d :\n",
    "            d[li[i]] +=1\n",
    "        else:\n",
    "            d[li[i]] = 1\n",
    "    return d\n",
    "\n",
    "print(counter(\"apple banana apple orange banana\"))"
   ]
  },
  {
   "cell_type": "markdown",
   "id": "d009cf2e",
   "metadata": {},
   "source": [
    "4. Grade Calculator\n",
    " \n",
    "* Function takes marks and returns grade.\n",
    " \n",
    "* Input: `[85, 90, 78]`\n",
    " \n",
    "* Output: `\"Grade: A\"`"
   ]
  },
  {
   "cell_type": "code",
   "execution_count": null,
   "id": "3b1dabc9",
   "metadata": {},
   "outputs": [
    {
     "name": "stdout",
     "output_type": "stream",
     "text": [
      "Grade:  A\n"
     ]
    }
   ],
   "source": [
    "def grade(num):\n",
    "    g = sum(num)/len(num)\n",
    "    if g >= 80:\n",
    "        return\"A\"\n",
    "    elif g >=70:\n",
    "        return \"B\"\n",
    "    elif g>=50:\n",
    "        return \"C\"\n",
    "    elif g < 50:\n",
    "        return \"Fail\"\n",
    "\n",
    "num=[]\n",
    "n=int(input(\"Enter no of sub\"))\n",
    "for i in range(1,n+1):\n",
    "    ele = int(input(f\"enter sub {i} marks\"))\n",
    "    num.append(ele)\n",
    "print(\"Grade: \",grade(num))"
   ]
  },
  {
   "cell_type": "markdown",
   "id": "276b8086",
   "metadata": {},
   "source": [
    "5. Second Largest Number\n",
    " \n",
    "* Return 2nd largest number from a list.\n",
    " \n",
    "* Input: `[10, 5, 20, 8]`\n",
    " \n",
    "* Output: `10`"
   ]
  },
  {
   "cell_type": "code",
   "execution_count": null,
   "id": "9a425b14",
   "metadata": {},
   "outputs": [
    {
     "name": "stdout",
     "output_type": "stream",
     "text": [
      "Sec Largest no:  10\n"
     ]
    }
   ],
   "source": [
    "def secLarge(num):\n",
    "    fLarge = max(num)\n",
    "    sLarge = num[0]\n",
    "\n",
    "    for i in range (0,len(num)):\n",
    "        if(l2[i] > sLarge and l2[i]!=fLarge):\n",
    "            sLarge = l2[i]\n",
    "    return sLarge\n",
    "\n",
    "l2 = []\n",
    "n = int(input(\"Enter n\"))\n",
    "for i in range (0,n):\n",
    "    ele = int(input(\"num\"))\n",
    "    l2.append(ele)\n",
    "print(\"Sec Largest no: \",secLarge(l2))"
   ]
  },
  {
   "cell_type": "markdown",
   "id": "a9d847f3",
   "metadata": {},
   "source": [
    "Python Modules ( 5 challenges)\n",
    " \n",
    "1. `os` → Count Files by Extension\n",
    " \n",
    "Write a program using `os` to count how many `.txt` and `.py` files are in the current directory.\n",
    " \n",
    "Sample Input (files in folder):\n",
    " \n",
    "``` \n",
    "[\"notes.txt\", \"app.py\", \"data.csv\", \"report.txt\", \"main.py\"]\n",
    "```\n",
    " \n",
    "Sample Output:\n",
    "* Text files: 2\n",
    "* Python files: 2"
   ]
  },
  {
   "cell_type": "code",
   "execution_count": null,
   "id": "911df2bb",
   "metadata": {},
   "outputs": [
    {
     "name": "stdout",
     "output_type": "stream",
     "text": [
      "Text Files:  1\n",
      "Python Files  1\n"
     ]
    }
   ],
   "source": [
    "import os\n",
    "def fileCounter(directory=\".\"):\n",
    "    txt = 0\n",
    "    pyt = 0\n",
    "\n",
    "    for file in os.listdir(directory):\n",
    "        if file.endswith(\".txt\"):\n",
    "            txt+=1\n",
    "        elif file.endswith(\".py\"):\n",
    "            pyt+=1\n",
    "    print(\"Text Files: \",txt)\n",
    "    print(\"Python Files \",pyt)\n",
    "\n",
    "fileCounter(\".\")"
   ]
  },
  {
   "cell_type": "markdown",
   "id": "2174ca36",
   "metadata": {},
   "source": [
    "2. `statistics` → Exam Score Analysis\n",
    " \n",
    "Use `statistics` to calculate the mean, median, and variance of student exam scores.\n",
    " \n",
    "Sample Input:\n",
    " \n",
    "```\n",
    "Scores = [75, 80, 90, 100, 85, 90, 95]\n",
    "```\n",
    " \n",
    "Sample Output:\n",
    "* Mean = 88.57\n",
    "* Median = 90\n",
    "* Variance = 71.43"
   ]
  },
  {
   "cell_type": "code",
   "execution_count": null,
   "id": "63019dbb",
   "metadata": {},
   "outputs": [
    {
     "name": "stdout",
     "output_type": "stream",
     "text": [
      "Mean:  87.86\n",
      "Median:  90\n",
      "Variance:  73.81\n"
     ]
    }
   ],
   "source": [
    "import statistics as st\n",
    "scores=[75,80,90,100,85,90,95]\n",
    "\n",
    "print(\"Mean: \", round(st.mean(scores) , 2))\n",
    "print(\"Median: \",st.median(scores))\n",
    "print(\"Variance: \",round(st.variance(scores) , 2))"
   ]
  },
  {
   "cell_type": "markdown",
   "id": "5a8f8d7c",
   "metadata": {},
   "source": [
    "3. `math` → Quadratic Equation Solver\n",
    " \n",
    "Use the `math` module to solve quadratic equations of the form `ax² + bx + c = 0`.\n",
    " \n",
    "Sample Input:\n",
    " \n",
    "```\n",
    "a = 1, b = -3, c = 2\n",
    "```\n",
    " \n",
    "Sample Output:\n",
    " \n",
    "```\n",
    "Roots are: 1.0 and 2.0\n",
    "```"
   ]
  },
  {
   "cell_type": "code",
   "execution_count": null,
   "id": "4d93889f",
   "metadata": {},
   "outputs": [
    {
     "name": "stdout",
     "output_type": "stream",
     "text": [
      "Enter values of a,b,c in ax^2+bx+c=0\n",
      "Roots are: 2.0 and 1.0\n"
     ]
    }
   ],
   "source": [
    "import math\n",
    "print(\"Enter values of a,b,c in ax^2+bx+c=0\")\n",
    "a = int(input(\"a\"))\n",
    "b = int(input(\"b\"))\n",
    "c = int(input(\"c\"))\n",
    "\n",
    "root1 = (-b + math.sqrt(b**2 - 4*a*c))/2*a\n",
    "root2 = (-b - math.sqrt(b**2 - 4*a*c))/2*a\n",
    "\n",
    "print(f\"Roots are: {root1} and {root2}\")"
   ]
  },
  {
   "cell_type": "markdown",
   "id": "3460e591",
   "metadata": {},
   "source": [
    "4. `random` → Rock Paper Scissors Game\n",
    " \n",
    "Use `random.choice()` to let the computer play Rock–Paper–Scissors against the user.\n",
    " \n",
    "Sample Input:\n",
    " \n",
    "```\n",
    "User: Rock\n",
    "Computer (random): Scissors\n",
    "```\n",
    " \n",
    "Sample Output:\n",
    " \n",
    "```\n",
    "You chose Rock, Computer chose Scissors\n",
    "You Win! \n",
    "```"
   ]
  },
  {
   "cell_type": "code",
   "execution_count": null,
   "id": "4c649a12",
   "metadata": {},
   "outputs": [
    {
     "name": "stdout",
     "output_type": "stream",
     "text": [
      "You chose Rock, Computer chose Paper\n",
      "Computer wins!\n"
     ]
    }
   ],
   "source": [
    "import random\n",
    "rps = [\"Rock\" , \"Paper\" , \"Scissors\"]\n",
    "user = input(\"Enter [rock or paper or scissors]\")\n",
    "comp = random.choice(rps)\n",
    "print(f\"You chose {user}, Computer chose {comp}\")\n",
    "if (comp==\"Rock\" and user==\"Paper\") or (comp==\"Scissors\" and  user==\"Rock\") or (comp==\"Paper\"and user==\"Scissors\"):\n",
    "    print(\"You Win!\")\n",
    "elif (user==\"Rock\" and comp==\"Paper\") or (user==\"Scissors\" and  comp==\"Rock\") or (user==\"Paper\"and comp==\"Scissors\"):\n",
    "    print(\"Computer wins!\")\n",
    "elif user==comp:\n",
    "    print(\"Tie\")"
   ]
  },
  {
   "cell_type": "markdown",
   "id": "22854035",
   "metadata": {},
   "source": [
    "Python OOPs (5 challenges)\n",
    "1. Library System\n",
    " \n",
    "Create a `Library` class with:\n",
    " \n",
    "* Attributes: `books` (dict with book title → copies available)\n",
    " \n",
    "* Methods:\n",
    " \n",
    "* `borrow(title)` → decreases stock if available\n",
    " \n",
    "* `return_book(title)` → increases stock\n",
    " \n",
    "* `show_books()` → prints all available books\n",
    " \n",
    "Sample Input:\n",
    " \n",
    "```python\n",
    "lib = Library({\"Python 101\": 3, \"Data Science\": 2})\n",
    "print(lib.borrow(\"Python 101\"))\n",
    "print(lib.return_book(\"Python 101\"))\n",
    "lib.show_books()\n",
    "```\n",
    "Sample Output:\n",
    " \n",
    "```\n",
    "You borrowed Python 101\n",
    "You returned Python 101\n",
    "Available books: {'Python 101': 3, 'Data Science': 2} \n",
    "```"
   ]
  },
  {
   "cell_type": "code",
   "execution_count": null,
   "id": "0ad18e6c",
   "metadata": {},
   "outputs": [
    {
     "name": "stdout",
     "output_type": "stream",
     "text": [
      "You Borrowed Python 101\n",
      "You Returned Python 101\n",
      "Available Books: {'Python 101': 3, 'Data Science': 2}\n"
     ]
    }
   ],
   "source": [
    "class Library:\n",
    "    def __init__(self , books):\n",
    "        self.books=books\n",
    "    \n",
    "    def borrow(self , book):\n",
    "        if self.books[book]>=1:\n",
    "            self.books[book]-=1\n",
    "            print(f\"You Borrowed {book}\")\n",
    "        else:\n",
    "            print(\"Book not availabe\")\n",
    "    \n",
    "    def returnBook(self , book):\n",
    "        if book not in self.books:\n",
    "            self.books[book]=0\n",
    "        self.books[book]+=1\n",
    "        print(f\"You Returned {book}\")\n",
    "    \n",
    "    def showBooks(self):\n",
    "        print(f\"Available Books: {self.books}\")\n",
    "    \n",
    "lib = Library({\"Python 101\": 3, \"Data Science\": 2})\n",
    "lib.borrow(\"Python 101\")\n",
    "lib.returnBook(\"Python 101\")\n",
    "lib.showBooks()"
   ]
  },
  {
   "cell_type": "markdown",
   "id": "69992e2f",
   "metadata": {},
   "source": [
    "2. ATM Machine with PIN\n",
    " \n",
    "Create an `ATM` class with:\n",
    " \n",
    "* Attributes: `balance`, `pin`, `is_authenticated`\n",
    " \n",
    "* Methods:\n",
    " \n",
    "* `login(pin)` → checks PIN\n",
    " \n",
    "* `check_balance()`\n",
    " \n",
    "* `deposit(amount)`\n",
    " \n",
    "* `withdraw(amount)`\n",
    " \n",
    "Sample Input:\n",
    " \n",
    "```python\n",
    "atm = ATM(1234, 500)\n",
    "print(atm.login(1234))\n",
    "print(atm.deposit(200))\n",
    "print(atm.withdraw(100))\n",
    "print(atm.check_balance())\n",
    "```\n",
    " \n",
    "Sample Output:\n",
    " \n",
    "```\n",
    "Access Granted\n",
    "Deposited 200\n",
    "Withdrew 100\n",
    "Balance: 600\n",
    "```"
   ]
  },
  {
   "cell_type": "code",
   "execution_count": null,
   "id": "4dc69291",
   "metadata": {},
   "outputs": [
    {
     "name": "stdout",
     "output_type": "stream",
     "text": [
      "Access Granted\n",
      "Deposited 200\n",
      "Withdrawn 100\n",
      "Balance 600\n"
     ]
    }
   ],
   "source": [
    "class ATM:\n",
    "    def __init__(self , bal , pin , isAuth):\n",
    "        self.bal=bal\n",
    "        self.pin=pin\n",
    "        self.isAuth = isAuth\n",
    "\n",
    "    def login(self , pin):\n",
    "        if self.pin == pin :\n",
    "            print(\"Access Granted\")\n",
    "        else:\n",
    "            print (\"Access Denied\")\n",
    "    \n",
    "    def depositM(self , amt):\n",
    "        self.bal+=amt\n",
    "        print(f\"Deposited {amt}\")\n",
    "    \n",
    "    def withdrawM(self , amt):\n",
    "        self.bal-=amt\n",
    "        print(f\"Withdrawn {amt}\")\n",
    "    \n",
    "    def checkBalance(self):\n",
    "        return self.bal\n",
    "\n",
    "atm = ATM(500 , 1234 , True)\n",
    "atm.login(1234)\n",
    "atm.depositM(200)\n",
    "atm.withdrawM(100)\n",
    "print(f\"Balance\" ,atm.checkBalance())"
   ]
  },
  {
   "cell_type": "markdown",
   "id": "9bff71bf",
   "metadata": {},
   "source": [
    "3. University System\n",
    " \n",
    "Create `Professor` and `Student` classes.\n",
    " \n",
    "* Professor Attributes: `name`, `subject`\n",
    " \n",
    "* Professor Methods: `teach(course)`, `give_assignment(task)`\n",
    " \n",
    "* Student Attributes: `name`, `courses`, `assignments`\n",
    " \n",
    "* Student Methods: `enroll(course)`, `submit_assignment(task)`\n",
    " \n",
    "Sample Input:\n",
    " \n",
    "```python\n",
    " \n",
    "prof = Professor(\"Dr. Smith\", \"Computer Science\")\n",
    "stud = Student(\"Alice\")\n",
    "print(prof.teach(\"Python\")) \n",
    "print(stud.enroll(\"Python\"))\n",
    "print(prof.give_assignment(\"Project 1\"))\n",
    "print(stud.submit_assignment(\"Project 1\"))\n",
    "```\n",
    " \n",
    "Sample Output:\n",
    " \n",
    "```\n",
    "Dr. Smith is teaching Python\n",
    "Alice enrolled in Python\n",
    "Dr. Smith assigned: Project 1\n",
    "Alice submitted: Project 1 \n",
    "```"
   ]
  },
  {
   "cell_type": "code",
   "execution_count": 2,
   "id": "e8adf549",
   "metadata": {},
   "outputs": [
    {
     "name": "stdout",
     "output_type": "stream",
     "text": [
      "Dr. Smith is teaching Python\n",
      "Alice enrolled in Python\n",
      "Dr. Smith assigned: Project 1\n",
      "Alice submitted: Project 1\n"
     ]
    }
   ],
   "source": [
    "class Professor:\n",
    "    def __init__(self, name, subject):\n",
    "        self.name = name\n",
    "        self.subject = subject\n",
    "\n",
    "    def teach(self, course):\n",
    "        return f\"{self.name} is teaching {course}\"\n",
    "\n",
    "    def give_assignment(self, task):\n",
    "        return f\"{self.name} assigned: {task}\"\n",
    "\n",
    "\n",
    "class Student:\n",
    "    def __init__(self, name):\n",
    "        self.name = name\n",
    "        self.courses = []\n",
    "        self.assignments = []\n",
    "\n",
    "    def enroll(self, course):\n",
    "        self.courses.append(course)\n",
    "        return f\"{self.name} enrolled in {course}\"\n",
    "\n",
    "    def submit_assignment(self, task):\n",
    "        self.assignments.append(task)\n",
    "        return f\"{self.name} submitted: {task}\"\n",
    "\n",
    "\n",
    "prof = Professor(\"Dr. Smith\", \"Computer Science\")\n",
    "stud = Student(\"Alice\")\n",
    "\n",
    "print(prof.teach(\"Python\")) \n",
    "print(stud.enroll(\"Python\"))\n",
    "print(prof.give_assignment(\"Project 1\"))\n",
    "print(stud.submit_assignment(\"Project 1\"))\n"
   ]
  },
  {
   "cell_type": "markdown",
   "id": "8625dbf2",
   "metadata": {},
   "source": [
    "4. Movie Ticket Booking\n",
    " \n",
    "Create a `Cinema` class with:\n",
    " \n",
    "* Attributes: `movies` (dict → movie: seats available)\n",
    " \n",
    "* Methods:\n",
    " \n",
    "* `book(movie, seats)` → reduces seat count\n",
    " \n",
    "* `cancel(movie, seats)` → adds back seats\n",
    " \n",
    "* `show_movies()` → shows available seats\n",
    " \n",
    "Sample Input:\n",
    " \n",
    "```python\n",
    "cinema = Cinema({\"Avatar\": 10, \"Batman\": 5})\n",
    "print(cinema.book(\"Avatar\", 2))\n",
    "print(cinema.cancel(\"Avatar\", 1))\n",
    "cinema.show_movies()\n",
    "```\n",
    " \n",
    "Sample Output:\n",
    " \n",
    "```\n",
    "Booked 2 tickets for Avatar\n",
    "Cancelled 1 ticket for Avatar\n",
    "Movies: {'Avatar': 9, 'Batman': 5} \n",
    "```"
   ]
  },
  {
   "cell_type": "code",
   "execution_count": null,
   "id": "9e86d5e9",
   "metadata": {},
   "outputs": [
    {
     "name": "stdout",
     "output_type": "stream",
     "text": [
      "Booked 2 tickets for Avatar\n",
      "Cancelled 1 ticket for Avatar\n",
      "Movies: {'Avatar': 7, 'Batman': 5}\n"
     ]
    }
   ],
   "source": [
    "class Cinema:\n",
    "    def __init__(self , mov):\n",
    "        self.mov = mov\n",
    "    \n",
    "    def bookTickets(self ,movie , seats):\n",
    "        if self.mov[movie] >=seats:\n",
    "            self.mov[movie]-=seats\n",
    "            print(f\"Booked {seats} tickets for {movie}\")\n",
    "        else:\n",
    "            print(\"Housefull\")\n",
    "    \n",
    "    def cancelTickets(self , movie , seats):\n",
    "        self.mov[movie]-=seats\n",
    "        print(f\"Cancelled {seats} ticket for {movie}\")\n",
    "    \n",
    "    def showMovies(self):\n",
    "        print(f\"Movies: {self.mov}\")\n",
    "\n",
    "cinema = Cinema({\"Avatar\": 10, \"Batman\": 5})\n",
    "cinema.bookTickets(\"Avatar\", 2)\n",
    "cinema.cancelTickets(\"Avatar\", 1)\n",
    "cinema.showMovies()"
   ]
  },
  {
   "cell_type": "markdown",
   "id": "906032ea",
   "metadata": {},
   "source": [
    "5. Restaurant Menu\n",
    " \n",
    "Create a `Menu` class with:\n",
    " \n",
    "* Attributes: `items` (dict → item: price)\n",
    " \n",
    "* Methods:\n",
    " \n",
    "* `add_item(name, price)`\n",
    " \n",
    "* `remove_item(name)`\n",
    " \n",
    "* `update_price(name, new_price)`\n",
    " \n",
    "* `show_menu()`\n",
    " \n",
    "Sample Input:\n",
    " \n",
    "```python\n",
    "menu = Menu()\n",
    "print(menu.add_item(\"Burger\", 100))\n",
    "print(menu.add_item(\"Pizza\", 200))\n",
    "print(menu.update_price(\"Pizza\", 250))\n",
    "print(menu.remove_item(\"Burger\"))\n",
    "menu.show_menu()\n",
    "```\n",
    " \n",
    "Sample Output:\n",
    " \n",
    "```\n",
    "Burger added\n",
    "Pizza added\n",
    "Pizza price updated to 250\n",
    "Burger removed\n",
    "Menu: {'Pizza': 250}\n",
    "```"
   ]
  },
  {
   "cell_type": "code",
   "execution_count": null,
   "id": "8d90c265",
   "metadata": {},
   "outputs": [
    {
     "name": "stdout",
     "output_type": "stream",
     "text": [
      "Burger added\n",
      "Pizza added\n",
      "Pizza price updated to 250\n",
      "Burger removed\n",
      "Menu: {'Pizza': 250}\n"
     ]
    }
   ],
   "source": [
    "class Menu:\n",
    "    def __init__(self , items):\n",
    "        self.items = items\n",
    "    \n",
    "    def addItem(self ,name , price):\n",
    "        self.items[name]=price\n",
    "        print(f\"{name} added\")\n",
    "    \n",
    "    def removeItem(self , name):\n",
    "        del self.items[name]\n",
    "        print(f\"{name} removed\")\n",
    "    \n",
    "    def updatePrice(self , name , np):\n",
    "        self.items[name]=np\n",
    "        print(f\"{name} price updated to {np}\")\n",
    "    \n",
    "    def showMenu(self):\n",
    "        print(f\"Menu: {self.items}\")\n",
    "\n",
    "menu = Menu({})\n",
    "menu.addItem(\"Burger\", 100)\n",
    "menu.addItem(\"Pizza\", 200)\n",
    "menu.updatePrice(\"Pizza\", 250)\n",
    "menu.removeItem(\"Burger\")\n",
    "menu.showMenu()\n"
   ]
  }
 ],
 "metadata": {
  "kernelspec": {
   "display_name": "Python 3",
   "language": "python",
   "name": "python3"
  },
  "language_info": {
   "codemirror_mode": {
    "name": "ipython",
    "version": 3
   },
   "file_extension": ".py",
   "mimetype": "text/x-python",
   "name": "python",
   "nbconvert_exporter": "python",
   "pygments_lexer": "ipython3",
   "version": "3.11.0"
  }
 },
 "nbformat": 4,
 "nbformat_minor": 5
}
