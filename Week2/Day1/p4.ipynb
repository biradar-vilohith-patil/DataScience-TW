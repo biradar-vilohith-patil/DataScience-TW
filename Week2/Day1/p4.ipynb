{
 "cells": [
  {
   "cell_type": "markdown",
   "id": "f18e6245",
   "metadata": {},
   "source": [
    "Write a function(preLetterCase) that accepts two parameters ( a string ,and a letter). The function must return the string with all characters before the first instance of the letter converted to lowercase and all other characters converted to uppercase. Hence, if the specified letter is the first character of the string then the entire string will be converted to uppercase. The new string should be returned by the function.\\\n",
    "\n",
    "e.g.\n",
    "\n",
    "preLetterCase (\"CAtCHa\",\"a\") -> \"cATCHA\",\\\n",
    "preLetterCase (\"Preteen\",\"e\") -> \"prETEEN\"\\\n",
    "preLetterCase (\"You've got this\", \"m\") -> \"you've got this\"\\\n",
    "preLetterCase (\"Keep trying\", \"k\") -> \"KEEP TRYING\"\\"
   ]
  },
  {
   "cell_type": "code",
   "execution_count": 5,
   "id": "d2ade2a2",
   "metadata": {},
   "outputs": [
    {
     "name": "stdout",
     "output_type": "stream",
     "text": [
      "cATCHA\n",
      "prETEEN\n",
      "you've got this\n",
      "KEEP TRYING\n"
     ]
    }
   ],
   "source": [
    "def preLetterCase(string , letter):\n",
    "    string=string.lower()\n",
    "    a = string.find(letter)\n",
    "    if a==-1:\n",
    "        return string\n",
    "    \n",
    "    first = string[0:a].lower()\n",
    "    sec = string[a : len(string)].upper()\n",
    "    return first+sec\n",
    "\n",
    "print(preLetterCase(\"CAtCHa\",\"a\"))\n",
    "print(preLetterCase(\"Preteen\",\"e\"))\n",
    "print(preLetterCase(\"You've got this\",\"m\"))\n",
    "print(preLetterCase(\"Keep trying\",\"k\"))\n",
    "\n"
   ]
  },
  {
   "cell_type": "markdown",
   "id": "067021f9",
   "metadata": {},
   "source": [
    "Write a Python class named Student with two attributes student_id, student_name. Add a new attribute student_class. Create a function to display the entire attribute and their values in Student class.\n",
    "\n",
    "Sample Input:\n",
    "\n",
    "Enter Student Id : M11\\\n",
    "Enter Student Name: Anusha Rao\\\n",
    "Expected Output:\\\n",
    "Original attributes and their values of the Student class:\\\n",
    "Student ID: M11\\\n",
    "Student Name: Anusha Rao"
   ]
  },
  {
   "cell_type": "code",
   "execution_count": null,
   "id": "3d7d1b8d",
   "metadata": {},
   "outputs": [],
   "source": []
  }
 ],
 "metadata": {
  "kernelspec": {
   "display_name": "Python 3",
   "language": "python",
   "name": "python3"
  },
  "language_info": {
   "codemirror_mode": {
    "name": "ipython",
    "version": 3
   },
   "file_extension": ".py",
   "mimetype": "text/x-python",
   "name": "python",
   "nbconvert_exporter": "python",
   "pygments_lexer": "ipython3",
   "version": "3.11.0"
  }
 },
 "nbformat": 4,
 "nbformat_minor": 5
}
