{
 "cells": [
  {
   "cell_type": "markdown",
   "id": "bc7f5c20",
   "metadata": {},
   "source": [
    "1. Problem: Given a text file, count the total number of words."
   ]
  },
  {
   "cell_type": "code",
   "execution_count": 3,
   "id": "ef32903c",
   "metadata": {},
   "outputs": [
    {
     "name": "stdout",
     "output_type": "stream",
     "text": [
      "Total words  75\n"
     ]
    }
   ],
   "source": [
    "file_obj = open(\"day2.txt\" )\n",
    "c=0\n",
    "for obj in file_obj.readline() :\n",
    "    for word in obj.split(\" \"):\n",
    "        c+=1\n",
    "print(\"Total words \",c)"
   ]
  },
  {
   "cell_type": "markdown",
   "id": "cd99f19a",
   "metadata": {},
   "source": [
    "2. Problem: Write a program to check if a password is strong (at least 8 characters, contains uppercase, lowercase, digit, and special char).\n"
   ]
  },
  {
   "cell_type": "code",
   "execution_count": null,
   "id": "1f1adac4",
   "metadata": {},
   "outputs": [
    {
     "name": "stdout",
     "output_type": "stream",
     "text": [
      "strong\n"
     ]
    }
   ],
   "source": [
    "import string\n",
    "import re\n",
    "def pwCheck(pw):\n",
    "    \n",
    "    if (len(pw) >= 8 and\n",
    "        re.search(\"[a-z]\",pw) and\n",
    "        re.search(\"[A-Z]\", pw) and \n",
    "        re.search(\"[0-9]\" , pw) and\n",
    "        re.search(\"[\" + re.escape(string.punctuation) + \"]\", pw)):\n",
    "        return \"strong\"\n",
    "    else:\n",
    "        return \"weak\"\n",
    "    \n",
    "pw = input(\"Enter password\")\n",
    "print(pwCheck(pw))"
   ]
  },
  {
   "cell_type": "markdown",
   "id": "0e654484",
   "metadata": {},
   "source": [
    "3. Problem: Implement a calculator with +, -, *, / operations."
   ]
  },
  {
   "cell_type": "code",
   "execution_count": 15,
   "id": "229ab63e",
   "metadata": {},
   "outputs": [
    {
     "name": "stdout",
     "output_type": "stream",
     "text": [
      "12 * 2 =  24\n"
     ]
    }
   ],
   "source": [
    "\n",
    "def calc(op1 , op2 , op):\n",
    "    if op=='+':\n",
    "        return op1+op2\n",
    "    elif op=='-':\n",
    "        return op1-op2\n",
    "    elif op=='*':\n",
    "        return op1*op2\n",
    "    elif op=='/':\n",
    "        if op2==0:\n",
    "            return \"Error! Div by zero\"\n",
    "        return op1/op2\n",
    "    else:\n",
    "        return \"Invalid operator\"\n",
    "\n",
    "op1=int(input(\"operator 1\"))\n",
    "op2=int(input(\"operator 2\"))\n",
    "op = input(\"enter operator\")\n",
    "print(f\"{op1} {op} {op2} = \" , calc(op1,op2,op))"
   ]
  },
  {
   "cell_type": "markdown",
   "id": "d666b9e0",
   "metadata": {},
   "source": [
    "4. Problem: Given a list of student names, find duplicates."
   ]
  },
  {
   "cell_type": "code",
   "execution_count": 2,
   "id": "2fd7b182",
   "metadata": {},
   "outputs": [
    {
     "name": "stdout",
     "output_type": "stream",
     "text": [
      "Duplicates: ['Alice', 'Bob']\n"
     ]
    }
   ],
   "source": [
    "from collections import Counter\n",
    "\n",
    "students = [\"Alice\", \"Bob\", \"Charlie\", \"Alice\", \"David\", \"Bob\", \"Eve\"]\n",
    "\n",
    "duplicates = [name for name, count in Counter(students).items() if count > 1]\n",
    "print(\"Duplicates:\", duplicates)"
   ]
  },
  {
   "cell_type": "markdown",
   "id": "9faa2876",
   "metadata": {},
   "source": [
    "5. Problem: Convert between Celsius and Fahrenheit."
   ]
  },
  {
   "cell_type": "code",
   "execution_count": 1,
   "id": "5889593b",
   "metadata": {},
   "outputs": [
    {
     "name": "stdout",
     "output_type": "stream",
     "text": [
      "into fah 89.6f\n"
     ]
    }
   ],
   "source": [
    "tem = int(input(\"Enter temp in cel\"))\n",
    "fah = tem*1.8 +32\n",
    "print(f\"into fah {fah}f\" )"
   ]
  },
  {
   "cell_type": "markdown",
   "id": "2911e339",
   "metadata": {},
   "source": [
    "6. Problem: Find the largest number from a list of integers."
   ]
  },
  {
   "cell_type": "code",
   "execution_count": 8,
   "id": "2089d409",
   "metadata": {},
   "outputs": [
    {
     "name": "stdout",
     "output_type": "stream",
     "text": [
      "Largest value  8\n"
     ]
    }
   ],
   "source": [
    "def largeW(l):\n",
    "    return max(l)\n",
    "\n",
    "l=list(map(int,input().split(\" \")))\n",
    "\n",
    "print(\"Largest value \" , largeW(l))"
   ]
  },
  {
   "cell_type": "markdown",
   "id": "776719f9",
   "metadata": {},
   "source": [
    "7. Problem: Calculate Simple Interest."
   ]
  },
  {
   "cell_type": "code",
   "execution_count": 9,
   "id": "304e5acb",
   "metadata": {},
   "outputs": [
    {
     "name": "stdout",
     "output_type": "stream",
     "text": [
      "simple intrest  400.0\n"
     ]
    }
   ],
   "source": [
    "def simpleIntrest(p , r , t):\n",
    "    return (p*r*t)/100\n",
    "\n",
    "p = int(input(\"Enter principal amt\"))\n",
    "r = int(input(\"rate of intrest\"))\n",
    "t = int(input(\"Years\"))\n",
    "\n",
    "print(\"simple intrest \" , simpleIntrest(p , r, t))"
   ]
  },
  {
   "cell_type": "markdown",
   "id": "aa982366",
   "metadata": {},
   "source": [
    "8. Problem: Given a dictionary of student names and attendance %, find defaulters (<75%)."
   ]
  },
  {
   "cell_type": "code",
   "execution_count": 12,
   "id": "fb1a7ac6",
   "metadata": {},
   "outputs": [
    {
     "name": "stdout",
     "output_type": "stream",
     "text": [
      "Defaulters : ['kamal', 'koushik']\n"
     ]
    }
   ],
   "source": [
    "def defaulters(myDict):\n",
    "    res = []\n",
    "    for i in myDict:\n",
    "        if myDict[i] < 75:\n",
    "            res.append(i)\n",
    "    return res\n",
    "\n",
    "di = {\"kamal\" : 45 , \"koushik\" : 59 , \"bhargav\" : 76 , \"saibaba\":78}\n",
    "print(\"Defaulters :\" , defaulters(di))"
   ]
  },
  {
   "cell_type": "markdown",
   "id": "d3d1ad0b",
   "metadata": {},
   "source": [
    "9. Problem: Input: 1234 → Output: 10"
   ]
  },
  {
   "cell_type": "code",
   "execution_count": 13,
   "id": "0e48e533",
   "metadata": {},
   "outputs": [
    {
     "name": "stdout",
     "output_type": "stream",
     "text": [
      "Sum : 10\n"
     ]
    }
   ],
   "source": [
    "def digitSum(num):\n",
    "    r=0\n",
    "    res=0\n",
    "    while num > 0:\n",
    "        r=num%10\n",
    "        res +=r\n",
    "        num//=10\n",
    "    return res\n",
    "\n",
    "n = int(input(\"Enter num\"))\n",
    "print(\"Sum :\" , digitSum(n))"
   ]
  },
  {
   "cell_type": "markdown",
   "id": "da088a86",
   "metadata": {},
   "source": [
    "10. Problem: Write a function to check if a number is prime."
   ]
  },
  {
   "cell_type": "code",
   "execution_count": 19,
   "id": "3d3d1c38",
   "metadata": {},
   "outputs": [
    {
     "name": "stdout",
     "output_type": "stream",
     "text": [
      "False\n"
     ]
    }
   ],
   "source": [
    "import math\n",
    "def prime(n):\n",
    "    if n==1 :\n",
    "        return False\n",
    "    for i in range(2,int(math.sqrt(n))+1):\n",
    "        if n%i==0:\n",
    "            return False\n",
    "    return True\n",
    "\n",
    "print(prime(1))"
   ]
  },
  {
   "cell_type": "markdown",
   "id": "89921049",
   "metadata": {},
   "source": [
    "11. Problem: Find smallest and largest numbers from a list."
   ]
  },
  {
   "cell_type": "code",
   "execution_count": 20,
   "id": "79ecb10d",
   "metadata": {},
   "outputs": [
    {
     "name": "stdout",
     "output_type": "stream",
     "text": [
      "smallest and largest of list  [56, 7]\n"
     ]
    }
   ],
   "source": [
    "def smallLarge(l):\n",
    "    res=[]\n",
    "    res.append(max(l))\n",
    "    res.append(min(l))\n",
    "    return res\n",
    "\n",
    "print(\"smallest and largest of list \" , smallLarge([12,34,56,7,8]))"
   ]
  },
  {
   "cell_type": "markdown",
   "id": "55f6693c",
   "metadata": {},
   "source": [
    "12. Problem: Given items with prices in a dictionary, calculate total bill."
   ]
  },
  {
   "cell_type": "code",
   "execution_count": 21,
   "id": "d6e17e58",
   "metadata": {},
   "outputs": [
    {
     "name": "stdout",
     "output_type": "stream",
     "text": [
      "['aravind', 'kamal', 'kousik', 'vilo']\n"
     ]
    }
   ],
   "source": [
    "l = [\"vilo\" , \"kamal\" , \"kousik\" , \"aravind\"]\n",
    "print(sorted(l))"
   ]
  },
  {
   "cell_type": "code",
   "execution_count": 23,
   "id": "0d73359d",
   "metadata": {},
   "outputs": [
    {
     "name": "stdout",
     "output_type": "stream",
     "text": [
      "ZeroDivisionError\n",
      "end\n"
     ]
    }
   ],
   "source": [
    "n=2\n",
    "m=0\n",
    "res=0\n",
    "try:\n",
    "    res = n/m\n",
    "    print(res)\n",
    "except ZeroDivisionError :\n",
    "    print(\"ZeroDivisionError\")\n",
    "else:\n",
    "    print(\"Success\")\n",
    "finally:\n",
    "    print(\"end\")\n"
   ]
  },
  {
   "cell_type": "code",
   "execution_count": null,
   "id": "2f9de290",
   "metadata": {},
   "outputs": [
    {
     "name": "stdout",
     "output_type": "stream",
     "text": [
      "Bill is: -110\n",
      "Billing process Finished\n"
     ]
    }
   ],
   "source": [
    "try:\n",
    "    n = int(input(\"no of units\"))\n",
    "except TypeError :\n",
    "    print(\"Invalid Input\")\n",
    "else:\n",
    "    res = 0\n",
    "    if n <=100 :\n",
    "        res= n*5\n",
    "    elif n<=200:\n",
    "        res = (100*5)+(n-100)*7\n",
    "    elif n>200:\n",
    "        res = (100*5)+(100*7)+(n-200)*10\n",
    "    else:\n",
    "        print(\"Enter valid input\")\n",
    "    print(\"Bill is:\",res)\n",
    "finally:\n",
    "    print(\"Billing process Finished\")\n"
   ]
  },
  {
   "cell_type": "code",
   "execution_count": null,
   "id": "c89b6e0b",
   "metadata": {},
   "outputs": [],
   "source": []
  }
 ],
 "metadata": {
  "kernelspec": {
   "display_name": "Python 3",
   "language": "python",
   "name": "python3"
  },
  "language_info": {
   "codemirror_mode": {
    "name": "ipython",
    "version": 3
   },
   "file_extension": ".py",
   "mimetype": "text/x-python",
   "name": "python",
   "nbconvert_exporter": "python",
   "pygments_lexer": "ipython3",
   "version": "3.11.0"
  }
 },
 "nbformat": 4,
 "nbformat_minor": 5
}
