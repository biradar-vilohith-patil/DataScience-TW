{
 "cells": [
  {
   "cell_type": "markdown",
   "id": "48fc018d",
   "metadata": {},
   "source": [
    "q1. Scenario: A grocery shopkeeper wants to calculate the bill of 3 items. Prices and quantities should be stored in variables, and the program should display the total cost.\n",
    " \n",
    "Sample Input:\n",
    "\n",
    "Item1 Price: 50, Quantity: 2\n",
    "Item2 Price: 30, Quantity: 5\n",
    "Item3 Price: 20, Quantity: 3\n",
    " \n",
    "Expected Output:\n",
    " \n",
    "Total Bill = (50*2) + (30*5) + (20*3) = 100 + 150 + 60 = 310"
   ]
  },
  {
   "cell_type": "code",
   "execution_count": 1,
   "id": "03821be7",
   "metadata": {},
   "outputs": [
    {
     "name": "stdout",
     "output_type": "stream",
     "text": [
      "36\n"
     ]
    }
   ],
   "source": [
    "res = 0\n",
    "for i in range (0,3):\n",
    "    item = int(input(f\"Enter item {i+1}\"))\n",
    "    quant = int(input(\"Enter quantity\"))\n",
    "    res+=(item*quant)\n",
    "print(res)"
   ]
  },
  {
   "cell_type": "markdown",
   "id": "b0b8a94c",
   "metadata": {},
   "source": [
    "q2.Build a calculator that takes two numbers and performs addition, subtraction, multiplication, division, and modulus.\n",
    " \n",
    "Sample Input:\n",
    " \n",
    "Enter first number: 15 , Enter second number: 4\n",
    " \n",
    "Expected Output:\n",
    " \n",
    "Addition = 19\n",
    "Subtraction = 11\n",
    "Multiplication = 60\n",
    "Division = 3.75\n",
    "Modulus = 3"
   ]
  },
  {
   "cell_type": "code",
   "execution_count": 4,
   "id": "8800f46b",
   "metadata": {},
   "outputs": [
    {
     "name": "stdout",
     "output_type": "stream",
     "text": [
      "Addition = 19\n",
      "Subtraction = 11\n",
      "Mul = 60\n",
      "Div = 3.75\n",
      "Modulo Div = 3\n"
     ]
    }
   ],
   "source": [
    "fNum = int(input(\"Enter first number\"))\n",
    "sNum = int(input(\"Enter second number\"))\n",
    "\n",
    "print(\"Addition =\",fNum+sNum)\n",
    "print(\"Subtraction =\" , fNum-sNum)\n",
    "print(\"Mul =\" , fNum*sNum)\n",
    "print(\"Div =\" , fNum/sNum)\n",
    "print(\"Modulo Div =\" , fNum//sNum)"
   ]
  },
  {
   "cell_type": "markdown",
   "id": "2bb25b33",
   "metadata": {},
   "source": [
    "q3. A teacher wants a grading system where marks are input, and the grade is displayed.\n",
    " \n",
    "Sample Input: Enter marks: 82\n",
    " \n",
    "Expected Output: Grade: A (Excellent)\n",
    " \n",
    "(Rules: >=90 → A+, 80–89 → A, 70–79 → B, 60–69 → C, <60 → Fail)"
   ]
  },
  {
   "cell_type": "code",
   "execution_count": 5,
   "id": "2aff3aac",
   "metadata": {},
   "outputs": [
    {
     "name": "stdout",
     "output_type": "stream",
     "text": [
      "Fail\n"
     ]
    }
   ],
   "source": [
    "m = int(input(\"marks\"))\n",
    "\n",
    "if m>=90:\n",
    "    print(\"A+\")\n",
    "elif m<90 and m>=80:\n",
    "    print(\"A\")\n",
    "elif m<80 and m>=70:\n",
    "    print(\"b+\")\n",
    "elif m<70 and m>=60:\n",
    "    print(\"B\")\n",
    "elif m<60 and m>=50:\n",
    "    print(\"P\")\n",
    "else:\n",
    "    print(\"Fail\")"
   ]
  },
  {
   "cell_type": "markdown",
   "id": "3379e604",
   "metadata": {},
   "source": [
    "q4. Student Marks List\n",
    "\n",
    "Scenario: Store marks of 5 students in a list. Display the highest, lowest, and average marks.\n",
    " \n",
    "Sample Input:\n",
    "\n",
    "Marks: [45, 78, 88, 56, 90]\n",
    "\n",
    "Expected Output:\n",
    " \n",
    "Highest Marks = 90\n",
    "Lowest Marks = 45\n",
    "Average Marks = 71.4"
   ]
  },
  {
   "cell_type": "code",
   "execution_count": 7,
   "id": "52f09e5a",
   "metadata": {},
   "outputs": [
    {
     "name": "stdout",
     "output_type": "stream",
     "text": [
      "45 90 71.4\n"
     ]
    }
   ],
   "source": [
    "marks =[]\n",
    "va = 0\n",
    "for i in range (0,5):\n",
    "    ele = int(input(f\"num {i}\"))\n",
    "    marks.append(ele)\n",
    "    va+=ele\n",
    "\n",
    "\n",
    "low =min(marks)\n",
    "high = max(marks)\n",
    "avg = va/len(marks)\n",
    "\n",
    "\n",
    "print(low , high , avg)\n"
   ]
  },
  {
   "cell_type": "markdown",
   "id": "e4d63b53",
   "metadata": {},
   "source": [
    "q5. Create a phonebook using a dictionary where names are keys and numbers are values. Allow searching for a number by name.\n",
    " \n",
    "Sample Input:\n",
    " \n",
    "Phonebook = {\"Suhel\": 9876543210, \"Ravi\": 9123456780, \"Anita\": 9988776655}\n",
    "Search Name: Ravi\n",
    " \n",
    "Expected Output:\n",
    "Phone Number of Ravi: 9123456780"
   ]
  },
  {
   "cell_type": "code",
   "execution_count": 9,
   "id": "b7df4541",
   "metadata": {},
   "outputs": [
    {
     "name": "stdout",
     "output_type": "stream",
     "text": [
      "sairam's Phone No:  9090909090\n"
     ]
    }
   ],
   "source": [
    "d={}\n",
    "n = int(input(\"n\"))\n",
    "\n",
    "for i in range(n):\n",
    "    ke = input(\"key\")\n",
    "    val = int(input(\"val\"))\n",
    "    d[ke] = val\n",
    "\n",
    "searchEle = input(\"search name\")\n",
    "if searchEle in d:\n",
    "    print(f\"{searchEle}'s Phone No: \" , d[searchEle])"
   ]
  },
  {
   "cell_type": "markdown",
   "id": "fb52c099",
   "metadata": {},
   "source": [
    "q10. Store a list of books in a library. Program should allow adding, \n",
    "removing, and displaying all books. Also, show total number of books.\\\n",
    "Sample Input:\\\n",
    "Books = [\"Python Basics\", \"Data Science\", \"AI Fundamentals\"]\\\n",
    "Add Book: \"Machine Learning\"\\\n",
    "Remove Book: \"Data Science\"\n",
    " \n",
    "Expected Output:\\\n",
    "Current Books: ['Python Basics', 'AI Fundamentals', 'Machine Learning']\\\n",
    "Total Books:3"
   ]
  },
  {
   "cell_type": "code",
   "execution_count": 11,
   "id": "65c31e8f",
   "metadata": {},
   "outputs": [
    {
     "name": "stdout",
     "output_type": "stream",
     "text": [
      "Current Books  ['Data Science', 'AI Fundamentals', 'ai in ml']\n",
      "Total Books 3\n"
     ]
    }
   ],
   "source": [
    "books = [\"Python Basics\", \"Data Science\", \"AI Fundamentals\"]\n",
    "addBook = input(\"Add Book\")\n",
    "books.append(addBook)\n",
    "removeBook = input(\"removeBook\")\n",
    "\n",
    "if removeBook in books:\n",
    "    books.remove(removeBook)\n",
    "else:\n",
    "    print(\"Error ! Invalid Book\")\n",
    "print(\"Current Books \" , books)\n",
    "print(\"Total Books\" , len(books))"
   ]
  },
  {
   "cell_type": "code",
   "execution_count": null,
   "id": "8884436b",
   "metadata": {},
   "outputs": [],
   "source": []
  }
 ],
 "metadata": {
  "kernelspec": {
   "display_name": "Python 3",
   "language": "python",
   "name": "python3"
  },
  "language_info": {
   "codemirror_mode": {
    "name": "ipython",
    "version": 3
   },
   "file_extension": ".py",
   "mimetype": "text/x-python",
   "name": "python",
   "nbconvert_exporter": "python",
   "pygments_lexer": "ipython3",
   "version": "3.11.0"
  }
 },
 "nbformat": 4,
 "nbformat_minor": 5
}
