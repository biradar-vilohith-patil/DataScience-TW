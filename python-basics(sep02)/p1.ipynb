{
 "cells": [
  {
   "cell_type": "code",
   "execution_count": null,
   "id": "0f373355",
   "metadata": {},
   "outputs": [
    {
     "name": "stdout",
     "output_type": "stream",
     "text": [
      "[2, 12, 13, 12, 12, 12, 1, 1, 1, 1]\n",
      "13\n",
      "12\n"
     ]
    }
   ],
   "source": [
    "'''12.In a class test, a teacher wants to know the second highest \n",
    "score among students. Write a program to find the second largest number in a list.'''\n",
    "\n",
    "l2 = []\n",
    "for i in range (0,10):\n",
    "    ele = int(input(\"num\"))\n",
    "    l2.append(ele)\n",
    "\n",
    "fLarge = l2[0]\n",
    "sLarge = l2[0]\n",
    "\n",
    "for i in range (0,10):\n",
    "    if(l2[i] > fLarge):\n",
    "        fLarge=l2[i]\n",
    "\n",
    "for i in range (0,10):\n",
    "    if(l2[i] > sLarge and l2[i]!=fLarge):\n",
    "        sLarge = l2[i]\n",
    "print(l2)\n",
    "print(fLarge)\n",
    "print(sLarge)"
   ]
  },
  {
   "cell_type": "markdown",
   "id": "77c58e0b",
   "metadata": {},
   "source": [
    "13. A fitness app counts only even-numbered steps to calculate “balanced walking.” Write a program to find the sum of even numbers from 1 to 50."
   ]
  },
  {
   "cell_type": "code",
   "execution_count": 5,
   "id": "e2cbefb1",
   "metadata": {},
   "outputs": [
    {
     "name": "stdout",
     "output_type": "stream",
     "text": [
      "25\n"
     ]
    }
   ],
   "source": [
    "c=0\n",
    "for i in range (1,51):\n",
    "    if(i%2 == 0):\n",
    "        c+=1\n",
    "print(c)"
   ]
  },
  {
   "cell_type": "markdown",
   "id": "0fb37268",
   "metadata": {},
   "source": [
    "14. A typing speed test wants to know how many uppercase and lowercase letters a user typed. Write a program to count uppercase and lowercase characters in a string."
   ]
  },
  {
   "cell_type": "code",
   "execution_count": 3,
   "id": "2e2e1e0b",
   "metadata": {},
   "outputs": [
    {
     "name": "stdout",
     "output_type": "stream",
     "text": [
      "I am The DangeR\n",
      "LowerCase 8\n",
      "UpperCase 4\n"
     ]
    }
   ],
   "source": [
    "s = input(\"string\")\n",
    "lc=0 \n",
    "uc =0\n",
    "for i in range(len(s)):\n",
    "    if s[i].islower() :\n",
    "        lc+=1\n",
    "    elif s[i].isupper():\n",
    "        uc+=1\n",
    "print(s)\n",
    "print(\"LowerCase\" , lc)\n",
    "print(\"UpperCase\" , uc)"
   ]
  },
  {
   "cell_type": "markdown",
   "id": "3f5ec62a",
   "metadata": {},
   "source": [
    "15.A financial tool simulates Fibonacci-like growth in savings. Write a program to generate the Fibonacci sequence up to n terms."
   ]
  },
  {
   "cell_type": "code",
   "execution_count": 4,
   "id": "2bdc7219",
   "metadata": {},
   "outputs": [
    {
     "name": "stdout",
     "output_type": "stream",
     "text": [
      "Fib Sequence : \n",
      "0 1 1 2 3 "
     ]
    }
   ],
   "source": [
    "nFib  = int(input(\"Number of terms\"))\n",
    "print(\"Fib Sequence : \")\n",
    "a , b = 0 ,1\n",
    "for i in range(nFib):\n",
    "    print(a , end=\" \")\n",
    "    a , b = b , a+b"
   ]
  },
  {
   "cell_type": "markdown",
   "id": "4d570936",
   "metadata": {},
   "source": [
    "16. A word puzzle game checks if two words are anagrams (same letters but shuffled). Write a program to check if two strings are anagrams.\n"
   ]
  },
  {
   "cell_type": "code",
   "execution_count": 6,
   "id": "f1d34109",
   "metadata": {},
   "outputs": [
    {
     "name": "stdout",
     "output_type": "stream",
     "text": [
      "Anagrams\n"
     ]
    }
   ],
   "source": [
    "s1 = input(\"string 1\")\n",
    "s2 = input(\"string 2\")\n",
    "\n",
    "s1=s1.replace(\" \",\"\").lower()\n",
    "s2=s2.replace(\" \",\"\").lower()\n",
    "\n",
    "isAn = sorted(s1)==sorted(s2)\n",
    "\n",
    "if isAn:\n",
    "    print(\"Anagrams\")\n",
    "else:\n",
    "    print(\"Not Valid Anagrams\")"
   ]
  },
  {
   "cell_type": "markdown",
   "id": "8e9a98f2",
   "metadata": {},
   "source": [
    "17. A science experiment needs to verify whether a number is perfect (sum of divisors = number). Write a program to check if a number is a perfect number."
   ]
  },
  {
   "cell_type": "code",
   "execution_count": 15,
   "id": "8b0ee33f",
   "metadata": {},
   "outputs": [
    {
     "name": "stdout",
     "output_type": "stream",
     "text": [
      "Perfect Number\n"
     ]
    }
   ],
   "source": [
    "num = int(input(\"enter a number\"))\n",
    "res = 1\n",
    "for i in range(2,num//2+1):\n",
    "    if num%i == 0:\n",
    "        res+=i\n",
    "if res == num and num!=1:\n",
    "    print(\"Perfect Number\")\n",
    "else:\n",
    "    print(\"Not a perfect number\")"
   ]
  },
  {
   "cell_type": "markdown",
   "id": "29039895",
   "metadata": {},
   "source": [
    "18. A school report system calculates percentage and assigns grades: ≥90 → A , ≥75 → B , ≥50 → C , <50 → Fail , Write a program that takes 5 subject marks, calculates percentage, and prints the grade."
   ]
  },
  {
   "cell_type": "code",
   "execution_count": 16,
   "id": "839acc47",
   "metadata": {},
   "outputs": [
    {
     "name": "stdout",
     "output_type": "stream",
     "text": [
      "C\n"
     ]
    }
   ],
   "source": [
    "num=[]\n",
    "for i in range(1,6):\n",
    "    ele = int(input(f\"enter sub {i} marks\"))\n",
    "    num.append(ele)\n",
    "g = sum(num)/len(num)\n",
    "\n",
    "if g >= 90:\n",
    "    print(\"A\")\n",
    "elif g >=75:\n",
    "    print(\"B\")\n",
    "elif g>=50:\n",
    "    print(\"C\")\n",
    "elif g < 50:\n",
    "    print(\"Fail\")"
   ]
  },
  {
   "cell_type": "markdown",
   "id": "9b2b130b",
   "metadata": {},
   "source": [
    "11.A security system checks whether the entered code is prime for extra authentication. Write a program to check if a given number is prime.\n",
    "AND\n",
    "19. A mathematics quiz app generates all prime numbers between 1 and 100. Write a program to print all prime numbers in this range."
   ]
  },
  {
   "cell_type": "code",
   "execution_count": 19,
   "id": "47f88f6b",
   "metadata": {},
   "outputs": [
    {
     "name": "stdout",
     "output_type": "stream",
     "text": [
      "2 3 5 7 11 13 17 19 23 29 31 37 41 43 47 53 59 61 67 71 73 79 83 89 97 "
     ]
    }
   ],
   "source": [
    "def isPrime(n):\n",
    "    if n <= 1:\n",
    "      return False\n",
    "    for i in range(2, int(n**0.5) + 1):\n",
    "        if n % i == 0:\n",
    "            return False\n",
    "    return True\n",
    "\n",
    "n = int(input(\"Number n\"))\n",
    "for j in range(1,n+1):\n",
    "    if isPrime(j):\n",
    "        print(j , end =\" \")"
   ]
  },
  {
   "cell_type": "markdown",
   "id": "5348b3f1",
   "metadata": {},
   "source": [
    "20. An online editor counts words in an article but doesn’t allow using split(). Write a program to count the number of words in a sentence."
   ]
  },
  {
   "cell_type": "code",
   "execution_count": 23,
   "id": "663859be",
   "metadata": {},
   "outputs": [
    {
     "name": "stdout",
     "output_type": "stream",
     "text": [
      "i,am,the,danger\n",
      "4\n"
     ]
    }
   ],
   "source": [
    "s = input(\"Enter a sentence\")\n",
    "s=s.replace(\" \", \",\")\n",
    "c=0\n",
    "for i in range(len(s)):\n",
    "    if s[i]==',':\n",
    "        c+=1\n",
    "print(s)\n",
    "print(c+1)"
   ]
  },
  {
   "cell_type": "markdown",
   "id": "2f1b2820",
   "metadata": {},
   "source": [
    "21. Movie Ticket Discount\n",
    "\n",
    "A cinema gives a 20% discount if the customer is a student and 10% discount if the customer is a senior citizen (age ≥ 60).\n",
    "Write a program that takes ticket price, age, and student status (yes/no) as input and prints the final ticket price."
   ]
  },
  {
   "cell_type": "code",
   "execution_count": 24,
   "id": "32d9864c",
   "metadata": {},
   "outputs": [
    {
     "name": "stdout",
     "output_type": "stream",
     "text": [
      "discounted ticket price 800.0\n"
     ]
    }
   ],
   "source": [
    "ticket = int(input(\"Enter the price of ticket\"))\n",
    "age = int(input(\"Age\"))\n",
    "isSt = bool(input(\"Is student ? (yes/no)\"))\n",
    "\n",
    "if isSt and age<60:\n",
    "    print(\"discounted ticket price\" , ticket - (ticket/5))\n",
    "elif age >= 60 :\n",
    "    print(\"Discount \" , ticket-(ticket/10))\n",
    "else:\n",
    "    print(\"Ticket(no discount)\" , ticket)"
   ]
  },
  {
   "cell_type": "markdown",
   "id": "180bb70b",
   "metadata": {},
   "source": [
    "Write a Python program to get a list, sorted in increasing order by the last element in each tuple from a given list of non-empty tuples.\n",
    "\n",
    "Sample List : [(2, 5), (1, 2), (4, 4), (2, 3), (2, 1)]\n",
    "\n",
    "Expected Result : [(2, 1), (1, 2), (2, 3), (4, 4), (2, 5)]"
   ]
  },
  {
   "cell_type": "code",
   "execution_count": null,
   "id": "9b293bf6",
   "metadata": {},
   "outputs": [
    {
     "name": "stdout",
     "output_type": "stream",
     "text": [
      "sorted  [(2, 1), (1, 2), (2, 3), (4, 4), (2, 5)]\n"
     ]
    }
   ],
   "source": [
    "lF = [(2, 5), (1, 2), (4, 4), (2, 3), (2, 1)]\n",
    "sorted_list = sorted(lF , key=lambda x: x[-1])\n",
    "print(\"sorted \" , sorted_list)"
   ]
  },
  {
   "cell_type": "markdown",
   "id": "7b8f3d90",
   "metadata": {},
   "source": [
    "With a given list [12,24,35,24,88,120,155,88,120,155], write a program to print this list after removing all duplicate values with original order reserved.\n",
    "\n",
    "Note:\n",
    "\n",
    "Use set() to store a number of values without duplicate.\n",
    "\n",
    "Expected Output:\n",
    "\n",
    "[12, 24, 35, 88, 120, 155]"
   ]
  },
  {
   "cell_type": "code",
   "execution_count": 25,
   "id": "db1f188d",
   "metadata": {},
   "outputs": [
    {
     "name": "stdout",
     "output_type": "stream",
     "text": [
      "[35, 12, 155, 24, 88, 120]\n"
     ]
    }
   ],
   "source": [
    "l = [12,24,35,24,88,120,155,88,120,155]\n",
    "dupe = set(l)\n",
    "new_l = list(dupe)\n",
    "print(new_l)"
   ]
  }
 ],
 "metadata": {
  "kernelspec": {
   "display_name": "Python 3",
   "language": "python",
   "name": "python3"
  },
  "language_info": {
   "codemirror_mode": {
    "name": "ipython",
    "version": 3
   },
   "file_extension": ".py",
   "mimetype": "text/x-python",
   "name": "python",
   "nbconvert_exporter": "python",
   "pygments_lexer": "ipython3",
   "version": "3.11.0"
  }
 },
 "nbformat": 4,
 "nbformat_minor": 5
}
