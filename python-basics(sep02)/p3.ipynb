{
 "cells": [
  {
   "cell_type": "markdown",
   "id": "ca07bd86",
   "metadata": {},
   "source": [
    "22. Shopping Cart Free Delivery\n",
    "\n",
    "An e-commerce website gives free delivery if the total cart value is more than ₹500. Otherwise, a delivery charge of ₹50 is applied.\n",
    "Write a program that takes the cart total as input and prints the final amount payable."
   ]
  },
  {
   "cell_type": "code",
   "execution_count": 1,
   "id": "fbb4f832",
   "metadata": {},
   "outputs": [
    {
     "name": "stdout",
     "output_type": "stream",
     "text": [
      "Amount Payable: 500\n"
     ]
    }
   ],
   "source": [
    "cartValue = int(input(\"Enter the cart value\"))\n",
    "if cartValue > 500:\n",
    "    print(\"Amount payable :\" , cartValue)\n",
    "else:\n",
    "    print(\"Amount Payable:\" , cartValue+50)"
   ]
  },
  {
   "cell_type": "markdown",
   "id": "03e75f3f",
   "metadata": {},
   "source": [
    "24. Restaurant Tip Calculator\\\n",
    "A restaurant suggests tips based on the bill:\n",
    "\n",
    "Less than 500 → 5% tip\\\n",
    "500–1000 → 10% tip\n",
    "\n",
    "More than 1000 → 15% tip\\\n",
    "Write a program that takes the bill amount and prints the tip to be added."
   ]
  },
  {
   "cell_type": "code",
   "execution_count": 2,
   "id": "3eb9dbb7",
   "metadata": {},
   "outputs": [
    {
     "name": "stdout",
     "output_type": "stream",
     "text": [
      "Tip Added 180.0\n"
     ]
    }
   ],
   "source": [
    "billAmt = int(input(\"Enter the bill amount\"))\n",
    "if billAmt < 500:\n",
    "    print(\"Tip Added\" , billAmt/20)\n",
    "elif billAmt>= 500 and billAmt <= 1000:\n",
    "    print(\"Tip Added\" , billAmt/10)\n",
    "elif billAmt > 1000:\n",
    "    print(\"Tip Added\", (15*billAmt)/100)"
   ]
  },
  {
   "cell_type": "markdown",
   "id": "7426d204",
   "metadata": {},
   "source": [
    "25. Gym Membership Plan\n",
    "\n",
    "A gym charges:\n",
    "₹500 per month\\\n",
    "₹2700 for 6 months (discounted)\\\n",
    "₹5000 for 12 months (discounted)\\\n",
    "Write a program where the user enters the membership period (months) and the program prints the cheapest option."
   ]
  },
  {
   "cell_type": "code",
   "execution_count": 1,
   "id": "1870fba4",
   "metadata": {},
   "outputs": [
    {
     "name": "stdout",
     "output_type": "stream",
     "text": [
      "For 7 months:\n",
      "Cheapest option: 6-month plan → ₹3200\n"
     ]
    }
   ],
   "source": [
    "months = int(input(\"Enter no of months\"))\n",
    "monthly = months * 500\n",
    "six_month = ((months // 6) * 2700) + ((months % 6) * 500)\n",
    "yearly = ((months // 12) * 5000) + ((months % 12) * 500)\n",
    "\n",
    "cheapest_cost = min(monthly, six_month, yearly)\n",
    "\n",
    "print(f\"For {months} months:\")\n",
    "if cheapest_cost == monthly:\n",
    "    print(f\"Cheapest option: Monthly plan → ₹{cheapest_cost}\")\n",
    "elif cheapest_cost == six_month:\n",
    "    print(f\"Cheapest option: 6-month plan → ₹{cheapest_cost}\")\n",
    "else:\n",
    "    print(f\"Cheapest option: 12-month plan → ₹{cheapest_cost}\")\n"
   ]
  },
  {
   "cell_type": "markdown",
   "id": "1eedcae5",
   "metadata": {},
   "source": [
    "26. Exam Eligibility\\\n",
    "A student must have at least 75% attendance to sit for the exam.\\\n",
    "Write a program that takes total classes and classes attended as input and prints whether the student is eligible or not eligible."
   ]
  },
  {
   "cell_type": "code",
   "execution_count": 4,
   "id": "bc8032f4",
   "metadata": {},
   "outputs": [
    {
     "name": "stdout",
     "output_type": "stream",
     "text": [
      "Eligibility :  True\n"
     ]
    }
   ],
   "source": [
    "attented = int(input(\"classes attented\"))\n",
    "total = int(input(\"total classes\"))\n",
    "per = (attented/total)*100\n",
    "eli = True if per >=75 else False\n",
    "print(\"Eligibility : \" , eli)"
   ]
  },
  {
   "cell_type": "markdown",
   "id": "2e32bf9d",
   "metadata": {},
   "source": [
    "27. ATM Withdrawal\\\n",
    "An ATM only allows withdrawals in multiples of 100.\\\n",
    "Write a program that takes the withdrawal amount and prints whether the transaction is successful or failed.\n"
   ]
  },
  {
   "cell_type": "code",
   "execution_count": null,
   "id": "a98ba7be",
   "metadata": {},
   "outputs": [
    {
     "name": "stdout",
     "output_type": "stream",
     "text": [
      "Successful\n"
     ]
    }
   ],
   "source": [
    "amt = int(input(\"enter amount\"))\n",
    "trans = amt % 100 == 0\n",
    "if trans:\n",
    "    print(\"Successful\")\n",
    "else:\n",
    "    print(\"Unsuccessful\")"
   ]
  },
  {
   "cell_type": "markdown",
   "id": "ca6ddf8b",
   "metadata": {},
   "source": [
    "28. Weather Suggestion\\\n",
    "Write a program that takes the temperature as input and gives a suggestion:\\\n",
    "35 → \"Too hot, stay indoors!\"\\\n",
    "20–35 → \"Nice weather, go out!\"\\\n",
    "< 20 → \"It’s cold, wear warm clothes!\""
   ]
  },
  {
   "cell_type": "code",
   "execution_count": 7,
   "id": "eecc3460",
   "metadata": {},
   "outputs": [
    {
     "name": "stdout",
     "output_type": "stream",
     "text": [
      "Nice weather, go out!\n"
     ]
    }
   ],
   "source": [
    "tem = int(input(\"Enter temperature\"))\n",
    "if tem > 35:\n",
    "    print(\"Too hot, stay indoors\")\n",
    "elif tem>=20 and tem<=35:\n",
    "    print(\"Nice weather, go out!\")\n",
    "elif tem <20:\n",
    "    print(\"It is cold, wear warm clothes\")\n",
    "else:\n",
    "    print(\"Invalid temperature\")"
   ]
  },
  {
   "cell_type": "markdown",
   "id": "77564de2",
   "metadata": {},
   "source": [
    "29. Library Fine\\\n",
    "A library charges a fine for late book returns:1–5 days → ₹10\\\n",
    "6–10 days → ₹50\\\n",
    "10 days → ₹100\\\n",
    "Write a program that takes the number of late days as input and prints the fine amount."
   ]
  },
  {
   "cell_type": "code",
   "execution_count": 8,
   "id": "0dacd9cd",
   "metadata": {},
   "outputs": [
    {
     "name": "stdout",
     "output_type": "stream",
     "text": [
      "Charges -> Rs. 50\n"
     ]
    }
   ],
   "source": [
    "noOfLateDays = int(input(\"Enter late days\"))\n",
    "if noOfLateDays in range(1,6):\n",
    "    print(\"Charges -> Rs.\" , 10)\n",
    "elif noOfLateDays in range(6,11):\n",
    "    print(\"Charges -> Rs.\",50)\n",
    "else:\n",
    "    print(\"charges -> Rs.\",100)"
   ]
  },
  {
   "cell_type": "markdown",
   "id": "51a18e0f",
   "metadata": {},
   "source": [
    "30. Electricity Bill Calculator\\\n",
    "An electricity board charges:\\\n",
    "First 100 units → ₹5 per unit\\\n",
    "Next 100 units (101–200) → ₹7 per unit\\\n",
    "Above 200 units → ₹10 per unit\\\n",
    "Write a program that takes units consumed as input and prints the bill amount."
   ]
  },
  {
   "cell_type": "code",
   "execution_count": 9,
   "id": "afd77443",
   "metadata": {},
   "outputs": [
    {
     "name": "stdout",
     "output_type": "stream",
     "text": [
      "Total amount payable 1172\n"
     ]
    }
   ],
   "source": [
    "units = int(input(\"Enter units consumed\"))\n",
    "bill = 0\n",
    "    \n",
    "if units <= 100:\n",
    "    bill = units * 5\n",
    "elif units <= 200:\n",
    "    bill = (100 * 5) + ((units - 100) * 7)\n",
    "else:\n",
    "    bill = (100 * 5) + (100 * 7) + ((units - 200) * 10)\n",
    "print(\"Total amount payable\",bill)"
   ]
  }
 ],
 "metadata": {
  "kernelspec": {
   "display_name": "Python 3",
   "language": "python",
   "name": "python3"
  },
  "language_info": {
   "codemirror_mode": {
    "name": "ipython",
    "version": 3
   },
   "file_extension": ".py",
   "mimetype": "text/x-python",
   "name": "python",
   "nbconvert_exporter": "python",
   "pygments_lexer": "ipython3",
   "version": "3.11.0"
  }
 },
 "nbformat": 4,
 "nbformat_minor": 5
}
