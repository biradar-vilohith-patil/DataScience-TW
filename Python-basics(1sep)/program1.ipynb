{
 "cells": [
  {
   "cell_type": "code",
   "execution_count": 2,
   "id": "539b7134",
   "metadata": {},
   "outputs": [
    {
     "name": "stdout",
     "output_type": "stream",
     "text": [
      "1 12\n",
      "12 1\n"
     ]
    }
   ],
   "source": [
    "a = int(input(\"Num 1 \"))\n",
    "b = int(input(\"Num 2\"))\n",
    "print(a , b)\n",
    "a = a+b\n",
    "b= a-b\n",
    "a = a-b \n",
    "\n",
    "print (a,b)"
   ]
  },
  {
   "cell_type": "code",
   "execution_count": 8,
   "id": "f529e781",
   "metadata": {},
   "outputs": [
    {
     "name": "stdout",
     "output_type": "stream",
     "text": [
      "kamal\n"
     ]
    },
    {
     "ename": "NameError",
     "evalue": "name 'String' is not defined",
     "output_type": "error",
     "traceback": [
      "\u001b[31m---------------------------------------------------------------------------\u001b[39m",
      "\u001b[31mNameError\u001b[39m                                 Traceback (most recent call last)",
      "\u001b[36mCell\u001b[39m\u001b[36m \u001b[39m\u001b[32mIn[8]\u001b[39m\u001b[32m, line 12\u001b[39m\n\u001b[32m     10\u001b[39m     a+=\u001b[32m1\u001b[39m\n\u001b[32m     11\u001b[39m     b-=\u001b[32m1\u001b[39m\n\u001b[32m---> \u001b[39m\u001b[32m12\u001b[39m \u001b[38;5;28mprint\u001b[39m(\u001b[43mString\u001b[49m(s))\n",
      "\u001b[31mNameError\u001b[39m: name 'String' is not defined"
     ]
    }
   ],
   "source": [
    "#str rev\n",
    "\n",
    "str = input(\"str\")\n",
    "print(str)\n",
    "a=0\n",
    "b=len(str)-1\n",
    "s=list(str)\n",
    "while(a < b):\n",
    "    s[a] , s[b] = s[b] , s[a]\n",
    "    a+=1\n",
    "    b-=1\n",
    "print(String(s))"
   ]
  },
  {
   "cell_type": "code",
   "execution_count": 12,
   "id": "e11b1656",
   "metadata": {},
   "outputs": [
    {
     "name": "stdout",
     "output_type": "stream",
     "text": [
      "not arm\n"
     ]
    }
   ],
   "source": [
    "#armstrong\n",
    "\n",
    "a=int(input(\"nu\"))\n",
    "og =a \n",
    "re=0 \n",
    "res=0\n",
    "\n",
    "while a>0 :\n",
    "    re=a%10\n",
    "    res +=re**3\n",
    "    a = a//10\n",
    "if(og==a):\n",
    "    print(\"arm\")\n",
    "else:\n",
    "    print(\"not arm\")\n",
    "\n",
    "\n"
   ]
  },
  {
   "cell_type": "code",
   "execution_count": null,
   "id": "93087f28",
   "metadata": {},
   "outputs": [],
   "source": []
  }
 ],
 "metadata": {
  "kernelspec": {
   "display_name": "venv",
   "language": "python",
   "name": "python3"
  },
  "language_info": {
   "codemirror_mode": {
    "name": "ipython",
    "version": 3
   },
   "file_extension": ".py",
   "mimetype": "text/x-python",
   "name": "python",
   "nbconvert_exporter": "python",
   "pygments_lexer": "ipython3",
   "version": "3.11.13"
  }
 },
 "nbformat": 4,
 "nbformat_minor": 5
}
